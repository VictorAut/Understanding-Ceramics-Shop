{
 "cells": [
  {
   "cell_type": "code",
   "execution_count": 71,
   "metadata": {},
   "outputs": [],
   "source": [
    "import requests\n",
    "import re\n",
    "from bs4 import BeautifulSoup\n",
    "\n",
    "import numpy as np\n",
    "import pandas as pd"
   ]
  },
  {
   "cell_type": "code",
   "execution_count": 72,
   "metadata": {},
   "outputs": [],
   "source": [
    "URL = 'https://www.contemporaryceramics.uk/shop/'\n",
    "page = requests.get(URL)"
   ]
  },
  {
   "cell_type": "code",
   "execution_count": 73,
   "metadata": {},
   "outputs": [],
   "source": [
    "soup = BeautifulSoup(page.content, 'html.parser')"
   ]
  },
  {
   "cell_type": "code",
   "execution_count": 74,
   "metadata": {},
   "outputs": [],
   "source": [
    "main_page = soup.find(id='products_list')"
   ]
  },
  {
   "cell_type": "markdown",
   "metadata": {},
   "source": [
    "get all unique URLs contained in the \"SHOP\" section. Then we will loop through these, pinging each and extracting the relevant parameters for each pot"
   ]
  },
  {
   "cell_type": "code",
   "execution_count": 75,
   "metadata": {},
   "outputs": [],
   "source": [
    "links = []\n",
    "for link in main_page.find_all('a', attrs={'href': re.compile(\"^https://www.contemporaryceramics.uk/product/\")}):\n",
    "    links.append(link.get('href'))"
   ]
  },
  {
   "cell_type": "markdown",
   "metadata": {},
   "source": [
    "Loop through all pots to obtain all features."
   ]
  },
  {
   "cell_type": "code",
   "execution_count": 76,
   "metadata": {},
   "outputs": [],
   "source": [
    "df = pd.DataFrame(columns = ['ProductCode', 'Price', 'Maker', 'Name', 'Description', 'Decoration', \n",
    "                             'Depth', 'Firing Technique', 'Height', 'Materials',\n",
    "                             'Signed', 'Technique', 'Width'])"
   ]
  },
  {
   "cell_type": "code",
   "execution_count": 77,
   "metadata": {
    "scrolled": true
   },
   "outputs": [],
   "source": [
    "for i in links:\n",
    "    URL = i\n",
    "    page = requests.get(URL)\n",
    "    \n",
    "    soup = BeautifulSoup(page.content, 'html.parser')\n",
    "    result = soup.find('div', class_=\"ProductDetail\")\n",
    "    \n",
    "    productCode = result.find('span', class_ = 'sku').text.strip(\"PRODUCT CODE:\")\n",
    "    \n",
    "    price = result.find('span', class_ = 'woocommerce-Price-amount amount').text\n",
    "    maker = result.find('div', class_ = 'maker')\n",
    "    if maker:\n",
    "        maker = maker.text\n",
    "    else:\n",
    "        maker = np.nan\n",
    "    name = result.find('h1').text\n",
    "    description = result.find('div', class_='woocommerce-product-details__short-description').find('p').text\n",
    "    \n",
    "    attributes = {'ProductCode':productCode, 'Price':price, 'Maker':maker, 'Name':name, 'Description':description}\n",
    "    \n",
    "    productDetails = result.find_all('div', class_ = 'attribute')\n",
    "    \n",
    "    for j in productDetails:\n",
    "        attribute = j.find('div', class_ = 'col-md-6 col-xs-6 NoPadding')\n",
    "        value = j.find('div', class_ = 'col-md-6 col-xs-6 NoPadding ProductAttributesInput')\n",
    "        attributes[attribute.text[:-1]] = value.text\n",
    "    \n",
    "    resultsSubset = pd.DataFrame([attributes])\n",
    "    \n",
    "    df = pd.concat([df, resultsSubset], axis=0, sort=True)\n",
    "    "
   ]
  },
  {
   "cell_type": "code",
   "execution_count": 86,
   "metadata": {},
   "outputs": [],
   "source": [
    "data = df.set_index(\"ProductCode\")\n"
   ]
  },
  {
   "cell_type": "code",
   "execution_count": 87,
   "metadata": {},
   "outputs": [],
   "source": [
    "data[\"Depth\"] = data[\"Depth\"].str.replace(' cm', '')\n",
    "data[\"Depth\"] = pd.to_numeric(data[\"Depth\"])\n",
    "\n",
    "data[\"Height\"] = data[\"Height\"].str.replace(' cm', '')\n",
    "data[\"Height\"] = pd.to_numeric(data[\"Height\"])\n",
    "\n",
    "data[\"Width\"] = data[\"Width\"].str.replace(' cm', '')\n",
    "data[\"Width\"] = pd.to_numeric(data[\"Width\"])\n",
    "\n",
    "data[\"Price\"] = data[\"Price\"].str.replace('£', '')\n",
    "data[\"Price\"] = data[\"Price\"].str.replace(',', '')\n",
    "data[\"Price\"] = pd.to_numeric(data[\"Price\"])"
   ]
  },
  {
   "cell_type": "code",
   "execution_count": 89,
   "metadata": {},
   "outputs": [],
   "source": [
    "data = data[[\"Price\", \"Maker\", \"Name\", \"Description\", \"Height\", \"Width\", \"Depth\", \n",
    "    \"Materials\", \"Technique\", \"Signed\", \"Firing Technique\", \"Decoration\"]]"
   ]
  },
  {
   "cell_type": "code",
   "execution_count": 91,
   "metadata": {},
   "outputs": [],
   "source": [
    "data.to_csv(\"Pots.csv\")"
   ]
  },
  {
   "cell_type": "code",
   "execution_count": null,
   "metadata": {},
   "outputs": [],
   "source": []
  }
 ],
 "metadata": {
  "kernelspec": {
   "display_name": "Python 3",
   "language": "python",
   "name": "python3"
  },
  "language_info": {
   "codemirror_mode": {
    "name": "ipython",
    "version": 3
   },
   "file_extension": ".py",
   "mimetype": "text/x-python",
   "name": "python",
   "nbconvert_exporter": "python",
   "pygments_lexer": "ipython3",
   "version": "3.7.4"
  }
 },
 "nbformat": 4,
 "nbformat_minor": 2
}
