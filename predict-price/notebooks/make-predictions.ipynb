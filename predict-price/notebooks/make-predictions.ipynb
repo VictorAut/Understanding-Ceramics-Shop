{
 "cells": [
  {
   "cell_type": "markdown",
   "metadata": {},
   "source": [
    "## Make price predictions for pots"
   ]
  },
  {
   "cell_type": "code",
   "execution_count": 25,
   "metadata": {},
   "outputs": [],
   "source": [
    "import pickle\n",
    "import pandas as pd\n",
    "import numpy as np\n",
    "\n",
    "from sklearn.preprocessing import PolynomialFeatures"
   ]
  },
  {
   "cell_type": "markdown",
   "metadata": {},
   "source": [
    "### Loading the model"
   ]
  },
  {
   "cell_type": "code",
   "execution_count": 2,
   "metadata": {},
   "outputs": [],
   "source": [
    "with open('../models/price-predictor', 'rb') as file:\n",
    "    model = pickle.load(file)"
   ]
  },
  {
   "cell_type": "markdown",
   "metadata": {},
   "source": [
    "### Sourcing data"
   ]
  },
  {
   "cell_type": "code",
   "execution_count": 20,
   "metadata": {},
   "outputs": [],
   "source": [
    "pot = {\n",
    "    'height': 45,\n",
    "    'materials_Earthenware': 0,\n",
    "    'materials_Porcelain': 0,\n",
    "    'materials_Stoneware': 1,\n",
    "    'technique_Thrown': 0,\n",
    "    'firing_Gas': 0,\n",
    "    'firing_Raku': 0,\n",
    "    'firing_Wood': 0,\n",
    "    'decoration_Lustre': 0,\n",
    "    'decoration_Sgraffito': 0,\n",
    "    'decoration_Slip decoration': 0,\n",
    "    'decoration_Terra Sigillata': 0,\n",
    "    'length': 20,\n",
    "}"
   ]
  },
  {
   "cell_type": "markdown",
   "metadata": {},
   "source": [
    "### Preparing data"
   ]
  },
  {
   "cell_type": "code",
   "execution_count": 21,
   "metadata": {},
   "outputs": [],
   "source": [
    "# Create a dataframe (with the columns in the right order)\n",
    "\n",
    "X = pd.DataFrame(columns=['height',\n",
    "                            'materials_Earthenware',\n",
    "                            'materials_Porcelain',\n",
    "                            'materials_Stoneware',\n",
    "                            'technique_Thrown',\n",
    "                            'firing_Gas',\n",
    "                            'firing_Raku',\n",
    "                            'firing_Wood',\n",
    "                            'decoration_Lustre',\n",
    "                            'decoration_Sgraffito',\n",
    "                            'decoration_Slip decoration',\n",
    "                            'decoration_Terra Sigillata',\n",
    "                            'length'])\n",
    "\n",
    "# Append the penguin row to it\n",
    "\n",
    "X = X.append(pot, ignore_index=True)"
   ]
  },
  {
   "cell_type": "code",
   "execution_count": 22,
   "metadata": {},
   "outputs": [],
   "source": [
    "# Define a PolynomialFeatures transformer with degree=2 and include_bias=False\n",
    "poly = PolynomialFeatures(degree=2, include_bias=False)\n",
    "\n",
    "X_poly = poly.fit_transform(X)\n",
    "X_poly = pd.DataFrame(data=X_poly, columns=poly.get_feature_names(X.columns))"
   ]
  },
  {
   "cell_type": "code",
   "execution_count": 23,
   "metadata": {},
   "outputs": [
    {
     "data": {
      "text/html": [
       "<div>\n",
       "<style scoped>\n",
       "    .dataframe tbody tr th:only-of-type {\n",
       "        vertical-align: middle;\n",
       "    }\n",
       "\n",
       "    .dataframe tbody tr th {\n",
       "        vertical-align: top;\n",
       "    }\n",
       "\n",
       "    .dataframe thead th {\n",
       "        text-align: right;\n",
       "    }\n",
       "</style>\n",
       "<table border=\"1\" class=\"dataframe\">\n",
       "  <thead>\n",
       "    <tr style=\"text-align: right;\">\n",
       "      <th></th>\n",
       "      <th>height</th>\n",
       "      <th>materials_Earthenware</th>\n",
       "      <th>materials_Porcelain</th>\n",
       "      <th>materials_Stoneware</th>\n",
       "      <th>technique_Thrown</th>\n",
       "      <th>firing_Gas</th>\n",
       "      <th>firing_Raku</th>\n",
       "      <th>firing_Wood</th>\n",
       "      <th>decoration_Lustre</th>\n",
       "      <th>decoration_Sgraffito</th>\n",
       "      <th>...</th>\n",
       "      <th>decoration_Sgraffito^2</th>\n",
       "      <th>decoration_Sgraffito decoration_Slip decoration</th>\n",
       "      <th>decoration_Sgraffito decoration_Terra Sigillata</th>\n",
       "      <th>decoration_Sgraffito length</th>\n",
       "      <th>decoration_Slip decoration^2</th>\n",
       "      <th>decoration_Slip decoration decoration_Terra Sigillata</th>\n",
       "      <th>decoration_Slip decoration length</th>\n",
       "      <th>decoration_Terra Sigillata^2</th>\n",
       "      <th>decoration_Terra Sigillata length</th>\n",
       "      <th>length^2</th>\n",
       "    </tr>\n",
       "  </thead>\n",
       "  <tbody>\n",
       "    <tr>\n",
       "      <th>0</th>\n",
       "      <td>45.0</td>\n",
       "      <td>0.0</td>\n",
       "      <td>0.0</td>\n",
       "      <td>1.0</td>\n",
       "      <td>0.0</td>\n",
       "      <td>0.0</td>\n",
       "      <td>0.0</td>\n",
       "      <td>0.0</td>\n",
       "      <td>0.0</td>\n",
       "      <td>0.0</td>\n",
       "      <td>...</td>\n",
       "      <td>0.0</td>\n",
       "      <td>0.0</td>\n",
       "      <td>0.0</td>\n",
       "      <td>0.0</td>\n",
       "      <td>0.0</td>\n",
       "      <td>0.0</td>\n",
       "      <td>0.0</td>\n",
       "      <td>0.0</td>\n",
       "      <td>0.0</td>\n",
       "      <td>400.0</td>\n",
       "    </tr>\n",
       "  </tbody>\n",
       "</table>\n",
       "<p>1 rows × 104 columns</p>\n",
       "</div>"
      ],
      "text/plain": [
       "   height  materials_Earthenware  materials_Porcelain  materials_Stoneware  \\\n",
       "0    45.0                    0.0                  0.0                  1.0   \n",
       "\n",
       "   technique_Thrown  firing_Gas  firing_Raku  firing_Wood  decoration_Lustre  \\\n",
       "0               0.0         0.0          0.0          0.0                0.0   \n",
       "\n",
       "   decoration_Sgraffito  ...  decoration_Sgraffito^2  \\\n",
       "0                   0.0  ...                     0.0   \n",
       "\n",
       "   decoration_Sgraffito decoration_Slip decoration  \\\n",
       "0                                              0.0   \n",
       "\n",
       "   decoration_Sgraffito decoration_Terra Sigillata  \\\n",
       "0                                              0.0   \n",
       "\n",
       "   decoration_Sgraffito length  decoration_Slip decoration^2  \\\n",
       "0                          0.0                           0.0   \n",
       "\n",
       "   decoration_Slip decoration decoration_Terra Sigillata  \\\n",
       "0                                                0.0       \n",
       "\n",
       "   decoration_Slip decoration length  decoration_Terra Sigillata^2  \\\n",
       "0                                0.0                           0.0   \n",
       "\n",
       "   decoration_Terra Sigillata length  length^2  \n",
       "0                                0.0     400.0  \n",
       "\n",
       "[1 rows x 104 columns]"
      ]
     },
     "execution_count": 23,
     "metadata": {},
     "output_type": "execute_result"
    }
   ],
   "source": [
    "X_poly"
   ]
  },
  {
   "cell_type": "markdown",
   "metadata": {},
   "source": [
    "### Make a prediction"
   ]
  },
  {
   "cell_type": "code",
   "execution_count": 26,
   "metadata": {},
   "outputs": [
    {
     "data": {
      "text/plain": [
       "782.2475847555949"
      ]
     },
     "execution_count": 26,
     "metadata": {},
     "output_type": "execute_result"
    }
   ],
   "source": [
    "np.exp(model.predict(X_poly)[0])"
   ]
  },
  {
   "cell_type": "code",
   "execution_count": null,
   "metadata": {},
   "outputs": [],
   "source": []
  }
 ],
 "metadata": {
  "kernelspec": {
   "display_name": "Python 3",
   "language": "python",
   "name": "python3"
  },
  "language_info": {
   "codemirror_mode": {
    "name": "ipython",
    "version": 3
   },
   "file_extension": ".py",
   "mimetype": "text/x-python",
   "name": "python",
   "nbconvert_exporter": "python",
   "pygments_lexer": "ipython3",
   "version": "3.8.5"
  }
 },
 "nbformat": 4,
 "nbformat_minor": 4
}
