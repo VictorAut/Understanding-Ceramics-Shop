{
 "cells": [
  {
   "cell_type": "code",
   "execution_count": 98,
   "metadata": {},
   "outputs": [],
   "source": [
    "import pandas as pd\n",
    "\n",
    "import seaborn as sns\n",
    "import matplotlib.pyplot as plt\n",
    "\n",
    "from sklearn.linear_model import LinearRegression"
   ]
  },
  {
   "cell_type": "code",
   "execution_count": 3,
   "metadata": {},
   "outputs": [],
   "source": [
    "pots = pd.read_csv(\"Pots.csv\")"
   ]
  },
  {
   "cell_type": "code",
   "execution_count": 4,
   "metadata": {},
   "outputs": [
    {
     "data": {
      "text/plain": [
       "Index(['ProductCode', 'Price', 'Maker', 'Name', 'Description', 'Height',\n",
       "       'Width', 'Depth', 'Materials', 'Technique', 'Signed',\n",
       "       'Firing Technique', 'Decoration'],\n",
       "      dtype='object')"
      ]
     },
     "execution_count": 4,
     "metadata": {},
     "output_type": "execute_result"
    }
   ],
   "source": [
    "pots.columns"
   ]
  },
  {
   "cell_type": "code",
   "execution_count": 5,
   "metadata": {},
   "outputs": [],
   "source": [
    "pots.columns = map(str.lower, pots.columns)\n",
    "pots = pots.rename(columns={'firing technique':'firing'})"
   ]
  },
  {
   "cell_type": "code",
   "execution_count": 6,
   "metadata": {},
   "outputs": [
    {
     "data": {
      "text/html": [
       "<div>\n",
       "<style scoped>\n",
       "    .dataframe tbody tr th:only-of-type {\n",
       "        vertical-align: middle;\n",
       "    }\n",
       "\n",
       "    .dataframe tbody tr th {\n",
       "        vertical-align: top;\n",
       "    }\n",
       "\n",
       "    .dataframe thead th {\n",
       "        text-align: right;\n",
       "    }\n",
       "</style>\n",
       "<table border=\"1\" class=\"dataframe\">\n",
       "  <thead>\n",
       "    <tr style=\"text-align: right;\">\n",
       "      <th></th>\n",
       "      <th>productcode</th>\n",
       "      <th>price</th>\n",
       "      <th>maker</th>\n",
       "      <th>name</th>\n",
       "      <th>description</th>\n",
       "      <th>height</th>\n",
       "      <th>width</th>\n",
       "      <th>depth</th>\n",
       "      <th>materials</th>\n",
       "      <th>technique</th>\n",
       "      <th>signed</th>\n",
       "      <th>firing</th>\n",
       "      <th>decoration</th>\n",
       "    </tr>\n",
       "  </thead>\n",
       "  <tbody>\n",
       "    <tr>\n",
       "      <td>0</td>\n",
       "      <td>AM470Y165</td>\n",
       "      <td>47.0</td>\n",
       "      <td>Andy Mason</td>\n",
       "      <td>ovalled bowl cream satin motif</td>\n",
       "      <td>This stoneware bowl is wheel-thrown with a cre...</td>\n",
       "      <td>8.0</td>\n",
       "      <td>25.5</td>\n",
       "      <td>22.0</td>\n",
       "      <td>Stoneware</td>\n",
       "      <td>Thrown</td>\n",
       "      <td>Signed</td>\n",
       "      <td>NaN</td>\n",
       "      <td>NaN</td>\n",
       "    </tr>\n",
       "    <tr>\n",
       "      <td>1</td>\n",
       "      <td>AM470Y164</td>\n",
       "      <td>47.0</td>\n",
       "      <td>Andy Mason</td>\n",
       "      <td>ovalled bowl cream satin motif</td>\n",
       "      <td>This stoneware bowl is wheel-thrown with a cre...</td>\n",
       "      <td>8.0</td>\n",
       "      <td>25.0</td>\n",
       "      <td>22.0</td>\n",
       "      <td>Stoneware</td>\n",
       "      <td>Thrown</td>\n",
       "      <td>Signed</td>\n",
       "      <td>NaN</td>\n",
       "      <td>NaN</td>\n",
       "    </tr>\n",
       "    <tr>\n",
       "      <td>2</td>\n",
       "      <td>AM470Y163</td>\n",
       "      <td>38.0</td>\n",
       "      <td>Andy Mason</td>\n",
       "      <td>dinner plate cream satin plain</td>\n",
       "      <td>This stoneware plate is wheel-thrown with a cr...</td>\n",
       "      <td>3.0</td>\n",
       "      <td>25.0</td>\n",
       "      <td>NaN</td>\n",
       "      <td>Stoneware</td>\n",
       "      <td>Thrown</td>\n",
       "      <td>Signed</td>\n",
       "      <td>NaN</td>\n",
       "      <td>NaN</td>\n",
       "    </tr>\n",
       "    <tr>\n",
       "      <td>3</td>\n",
       "      <td>AM470Y162</td>\n",
       "      <td>38.0</td>\n",
       "      <td>Andy Mason</td>\n",
       "      <td>dinner plate cream satin plain</td>\n",
       "      <td>This stoneware plate is wheel-thrown with a cr...</td>\n",
       "      <td>3.0</td>\n",
       "      <td>25.0</td>\n",
       "      <td>NaN</td>\n",
       "      <td>Stoneware</td>\n",
       "      <td>Thrown</td>\n",
       "      <td>Signed</td>\n",
       "      <td>NaN</td>\n",
       "      <td>NaN</td>\n",
       "    </tr>\n",
       "    <tr>\n",
       "      <td>4</td>\n",
       "      <td>AM470Y161</td>\n",
       "      <td>38.0</td>\n",
       "      <td>Andy Mason</td>\n",
       "      <td>dinner plate cream satin plain</td>\n",
       "      <td>This stoneware plate is wheel-thrown with a cr...</td>\n",
       "      <td>3.0</td>\n",
       "      <td>24.5</td>\n",
       "      <td>NaN</td>\n",
       "      <td>Stoneware</td>\n",
       "      <td>Thrown</td>\n",
       "      <td>Signed</td>\n",
       "      <td>NaN</td>\n",
       "      <td>NaN</td>\n",
       "    </tr>\n",
       "  </tbody>\n",
       "</table>\n",
       "</div>"
      ],
      "text/plain": [
       "  productcode  price       maker                            name  \\\n",
       "0   AM470Y165   47.0  Andy Mason  ovalled bowl cream satin motif   \n",
       "1   AM470Y164   47.0  Andy Mason  ovalled bowl cream satin motif   \n",
       "2   AM470Y163   38.0  Andy Mason  dinner plate cream satin plain   \n",
       "3   AM470Y162   38.0  Andy Mason  dinner plate cream satin plain   \n",
       "4   AM470Y161   38.0  Andy Mason  dinner plate cream satin plain   \n",
       "\n",
       "                                         description  height  width  depth  \\\n",
       "0  This stoneware bowl is wheel-thrown with a cre...     8.0   25.5   22.0   \n",
       "1  This stoneware bowl is wheel-thrown with a cre...     8.0   25.0   22.0   \n",
       "2  This stoneware plate is wheel-thrown with a cr...     3.0   25.0    NaN   \n",
       "3  This stoneware plate is wheel-thrown with a cr...     3.0   25.0    NaN   \n",
       "4  This stoneware plate is wheel-thrown with a cr...     3.0   24.5    NaN   \n",
       "\n",
       "   materials technique  signed firing decoration  \n",
       "0  Stoneware    Thrown  Signed    NaN        NaN  \n",
       "1  Stoneware    Thrown  Signed    NaN        NaN  \n",
       "2  Stoneware    Thrown  Signed    NaN        NaN  \n",
       "3  Stoneware    Thrown  Signed    NaN        NaN  \n",
       "4  Stoneware    Thrown  Signed    NaN        NaN  "
      ]
     },
     "execution_count": 6,
     "metadata": {},
     "output_type": "execute_result"
    }
   ],
   "source": [
    "pots.head()"
   ]
  },
  {
   "cell_type": "code",
   "execution_count": 7,
   "metadata": {},
   "outputs": [
    {
     "data": {
      "text/plain": [
       "(1128, 13)"
      ]
     },
     "execution_count": 7,
     "metadata": {},
     "output_type": "execute_result"
    }
   ],
   "source": [
    "pots.shape"
   ]
  },
  {
   "cell_type": "code",
   "execution_count": 8,
   "metadata": {},
   "outputs": [
    {
     "name": "stdout",
     "output_type": "stream",
     "text": [
      "<class 'pandas.core.frame.DataFrame'>\n",
      "RangeIndex: 1128 entries, 0 to 1127\n",
      "Data columns (total 13 columns):\n",
      "productcode    1128 non-null object\n",
      "price          1128 non-null float64\n",
      "maker          1125 non-null object\n",
      "name           1128 non-null object\n",
      "description    1128 non-null object\n",
      "height         1123 non-null float64\n",
      "width          1118 non-null float64\n",
      "depth          561 non-null float64\n",
      "materials      1085 non-null object\n",
      "technique      1093 non-null object\n",
      "signed         1116 non-null object\n",
      "firing         528 non-null object\n",
      "decoration     250 non-null object\n",
      "dtypes: float64(4), object(9)\n",
      "memory usage: 114.7+ KB\n"
     ]
    }
   ],
   "source": [
    "pots.info()"
   ]
  },
  {
   "cell_type": "markdown",
   "metadata": {},
   "source": [
    "## Clean 'description' column"
   ]
  },
  {
   "cell_type": "code",
   "execution_count": 9,
   "metadata": {},
   "outputs": [],
   "source": [
    "pots.description = pots.description.str.lower()"
   ]
  },
  {
   "cell_type": "code",
   "execution_count": 10,
   "metadata": {},
   "outputs": [
    {
     "data": {
      "text/html": [
       "<div>\n",
       "<style scoped>\n",
       "    .dataframe tbody tr th:only-of-type {\n",
       "        vertical-align: middle;\n",
       "    }\n",
       "\n",
       "    .dataframe tbody tr th {\n",
       "        vertical-align: top;\n",
       "    }\n",
       "\n",
       "    .dataframe thead th {\n",
       "        text-align: right;\n",
       "    }\n",
       "</style>\n",
       "<table border=\"1\" class=\"dataframe\">\n",
       "  <thead>\n",
       "    <tr style=\"text-align: right;\">\n",
       "      <th></th>\n",
       "      <th>productcode</th>\n",
       "      <th>price</th>\n",
       "      <th>maker</th>\n",
       "      <th>name</th>\n",
       "      <th>description</th>\n",
       "      <th>height</th>\n",
       "      <th>width</th>\n",
       "      <th>depth</th>\n",
       "      <th>materials</th>\n",
       "      <th>technique</th>\n",
       "      <th>signed</th>\n",
       "      <th>firing</th>\n",
       "      <th>decoration</th>\n",
       "    </tr>\n",
       "  </thead>\n",
       "  <tbody>\n",
       "    <tr>\n",
       "      <td>0</td>\n",
       "      <td>AM470Y165</td>\n",
       "      <td>47.0</td>\n",
       "      <td>Andy Mason</td>\n",
       "      <td>ovalled bowl cream satin motif</td>\n",
       "      <td>this stoneware bowl is wheel-thrown with a cre...</td>\n",
       "      <td>8.0</td>\n",
       "      <td>25.5</td>\n",
       "      <td>22.0</td>\n",
       "      <td>Stoneware</td>\n",
       "      <td>Thrown</td>\n",
       "      <td>Signed</td>\n",
       "      <td>NaN</td>\n",
       "      <td>NaN</td>\n",
       "    </tr>\n",
       "  </tbody>\n",
       "</table>\n",
       "</div>"
      ],
      "text/plain": [
       "  productcode  price       maker                            name  \\\n",
       "0   AM470Y165   47.0  Andy Mason  ovalled bowl cream satin motif   \n",
       "\n",
       "                                         description  height  width  depth  \\\n",
       "0  this stoneware bowl is wheel-thrown with a cre...     8.0   25.5   22.0   \n",
       "\n",
       "   materials technique  signed firing decoration  \n",
       "0  Stoneware    Thrown  Signed    NaN        NaN  "
      ]
     },
     "execution_count": 10,
     "metadata": {},
     "output_type": "execute_result"
    }
   ],
   "source": [
    "pots.head(1)"
   ]
  },
  {
   "cell_type": "markdown",
   "metadata": {},
   "source": [
    "## Clean 'Signed' column"
   ]
  },
  {
   "cell_type": "code",
   "execution_count": 11,
   "metadata": {},
   "outputs": [
    {
     "data": {
      "text/plain": [
       "12"
      ]
     },
     "execution_count": 11,
     "metadata": {},
     "output_type": "execute_result"
    }
   ],
   "source": [
    "pots[\"signed\"].isna().sum()"
   ]
  },
  {
   "cell_type": "markdown",
   "metadata": {},
   "source": [
    "Only 12 pots do not have the signed feature as completed. In my experience, any pot is signed, and I believe that this is used on the website simply to fill space — so we can go ahead and drop that completely"
   ]
  },
  {
   "cell_type": "code",
   "execution_count": 12,
   "metadata": {},
   "outputs": [
    {
     "name": "stdout",
     "output_type": "stream",
     "text": [
      "(1128, 12)\n"
     ]
    },
    {
     "data": {
      "text/html": [
       "<div>\n",
       "<style scoped>\n",
       "    .dataframe tbody tr th:only-of-type {\n",
       "        vertical-align: middle;\n",
       "    }\n",
       "\n",
       "    .dataframe tbody tr th {\n",
       "        vertical-align: top;\n",
       "    }\n",
       "\n",
       "    .dataframe thead th {\n",
       "        text-align: right;\n",
       "    }\n",
       "</style>\n",
       "<table border=\"1\" class=\"dataframe\">\n",
       "  <thead>\n",
       "    <tr style=\"text-align: right;\">\n",
       "      <th></th>\n",
       "      <th>productcode</th>\n",
       "      <th>price</th>\n",
       "      <th>maker</th>\n",
       "      <th>name</th>\n",
       "      <th>description</th>\n",
       "      <th>height</th>\n",
       "      <th>width</th>\n",
       "      <th>depth</th>\n",
       "      <th>materials</th>\n",
       "      <th>technique</th>\n",
       "      <th>firing</th>\n",
       "      <th>decoration</th>\n",
       "    </tr>\n",
       "  </thead>\n",
       "  <tbody>\n",
       "    <tr>\n",
       "      <td>0</td>\n",
       "      <td>AM470Y165</td>\n",
       "      <td>47.0</td>\n",
       "      <td>Andy Mason</td>\n",
       "      <td>ovalled bowl cream satin motif</td>\n",
       "      <td>this stoneware bowl is wheel-thrown with a cre...</td>\n",
       "      <td>8.0</td>\n",
       "      <td>25.5</td>\n",
       "      <td>22.0</td>\n",
       "      <td>Stoneware</td>\n",
       "      <td>Thrown</td>\n",
       "      <td>NaN</td>\n",
       "      <td>NaN</td>\n",
       "    </tr>\n",
       "    <tr>\n",
       "      <td>1</td>\n",
       "      <td>AM470Y164</td>\n",
       "      <td>47.0</td>\n",
       "      <td>Andy Mason</td>\n",
       "      <td>ovalled bowl cream satin motif</td>\n",
       "      <td>this stoneware bowl is wheel-thrown with a cre...</td>\n",
       "      <td>8.0</td>\n",
       "      <td>25.0</td>\n",
       "      <td>22.0</td>\n",
       "      <td>Stoneware</td>\n",
       "      <td>Thrown</td>\n",
       "      <td>NaN</td>\n",
       "      <td>NaN</td>\n",
       "    </tr>\n",
       "    <tr>\n",
       "      <td>2</td>\n",
       "      <td>AM470Y163</td>\n",
       "      <td>38.0</td>\n",
       "      <td>Andy Mason</td>\n",
       "      <td>dinner plate cream satin plain</td>\n",
       "      <td>this stoneware plate is wheel-thrown with a cr...</td>\n",
       "      <td>3.0</td>\n",
       "      <td>25.0</td>\n",
       "      <td>NaN</td>\n",
       "      <td>Stoneware</td>\n",
       "      <td>Thrown</td>\n",
       "      <td>NaN</td>\n",
       "      <td>NaN</td>\n",
       "    </tr>\n",
       "    <tr>\n",
       "      <td>3</td>\n",
       "      <td>AM470Y162</td>\n",
       "      <td>38.0</td>\n",
       "      <td>Andy Mason</td>\n",
       "      <td>dinner plate cream satin plain</td>\n",
       "      <td>this stoneware plate is wheel-thrown with a cr...</td>\n",
       "      <td>3.0</td>\n",
       "      <td>25.0</td>\n",
       "      <td>NaN</td>\n",
       "      <td>Stoneware</td>\n",
       "      <td>Thrown</td>\n",
       "      <td>NaN</td>\n",
       "      <td>NaN</td>\n",
       "    </tr>\n",
       "    <tr>\n",
       "      <td>4</td>\n",
       "      <td>AM470Y161</td>\n",
       "      <td>38.0</td>\n",
       "      <td>Andy Mason</td>\n",
       "      <td>dinner plate cream satin plain</td>\n",
       "      <td>this stoneware plate is wheel-thrown with a cr...</td>\n",
       "      <td>3.0</td>\n",
       "      <td>24.5</td>\n",
       "      <td>NaN</td>\n",
       "      <td>Stoneware</td>\n",
       "      <td>Thrown</td>\n",
       "      <td>NaN</td>\n",
       "      <td>NaN</td>\n",
       "    </tr>\n",
       "  </tbody>\n",
       "</table>\n",
       "</div>"
      ],
      "text/plain": [
       "  productcode  price       maker                            name  \\\n",
       "0   AM470Y165   47.0  Andy Mason  ovalled bowl cream satin motif   \n",
       "1   AM470Y164   47.0  Andy Mason  ovalled bowl cream satin motif   \n",
       "2   AM470Y163   38.0  Andy Mason  dinner plate cream satin plain   \n",
       "3   AM470Y162   38.0  Andy Mason  dinner plate cream satin plain   \n",
       "4   AM470Y161   38.0  Andy Mason  dinner plate cream satin plain   \n",
       "\n",
       "                                         description  height  width  depth  \\\n",
       "0  this stoneware bowl is wheel-thrown with a cre...     8.0   25.5   22.0   \n",
       "1  this stoneware bowl is wheel-thrown with a cre...     8.0   25.0   22.0   \n",
       "2  this stoneware plate is wheel-thrown with a cr...     3.0   25.0    NaN   \n",
       "3  this stoneware plate is wheel-thrown with a cr...     3.0   25.0    NaN   \n",
       "4  this stoneware plate is wheel-thrown with a cr...     3.0   24.5    NaN   \n",
       "\n",
       "   materials technique firing decoration  \n",
       "0  Stoneware    Thrown    NaN        NaN  \n",
       "1  Stoneware    Thrown    NaN        NaN  \n",
       "2  Stoneware    Thrown    NaN        NaN  \n",
       "3  Stoneware    Thrown    NaN        NaN  \n",
       "4  Stoneware    Thrown    NaN        NaN  "
      ]
     },
     "execution_count": 12,
     "metadata": {},
     "output_type": "execute_result"
    }
   ],
   "source": [
    "pots.drop(\"signed\", axis = 1, inplace = True)\n",
    "print(pots.shape)\n",
    "pots.head()"
   ]
  },
  {
   "cell_type": "markdown",
   "metadata": {},
   "source": [
    "## Clean 'Materials' column"
   ]
  },
  {
   "cell_type": "code",
   "execution_count": 13,
   "metadata": {},
   "outputs": [
    {
     "data": {
      "text/plain": [
       "materials\n",
       "Porcelain, Stoneware       3\n",
       "Porcelain, Bone China      7\n",
       "Bone China                28\n",
       "Earthenware              284\n",
       "Porcelain                335\n",
       "Stoneware                428\n",
       "dtype: int64"
      ]
     },
     "execution_count": 13,
     "metadata": {},
     "output_type": "execute_result"
    }
   ],
   "source": [
    "pots.groupby(\"materials\").size().sort_values()"
   ]
  },
  {
   "cell_type": "code",
   "execution_count": 26,
   "metadata": {},
   "outputs": [
    {
     "data": {
      "text/plain": [
       "43"
      ]
     },
     "execution_count": 26,
     "metadata": {},
     "output_type": "execute_result"
    }
   ],
   "source": [
    "pots.materials.isna().sum()"
   ]
  },
  {
   "cell_type": "code",
   "execution_count": 15,
   "metadata": {},
   "outputs": [],
   "source": [
    "pots.loc[(pots[\"materials\"] == 'Porcelain, Stoneware') |\n",
    "         (pots[\"materials\"] == 'Porcelain, Bone China'), 'materials'] = 'Porcelain'"
   ]
  },
  {
   "cell_type": "code",
   "execution_count": 16,
   "metadata": {},
   "outputs": [],
   "source": [
    "pots.loc[(pots.description=='John Pollex') & (pots.materials.isna()), 'materials'] = 'Earthenware'"
   ]
  },
  {
   "cell_type": "code",
   "execution_count": 30,
   "metadata": {},
   "outputs": [],
   "source": [
    "pots.loc[pots.materials.isna(), 'materials'] = 'Stoneware'"
   ]
  },
  {
   "cell_type": "markdown",
   "metadata": {},
   "source": [
    "## Clean 'Technique' column"
   ]
  },
  {
   "cell_type": "code",
   "execution_count": 32,
   "metadata": {},
   "outputs": [
    {
     "data": {
      "text/plain": [
       "technique\n",
       "Hand Built, Press Mould                1\n",
       "Press Mould                            1\n",
       "Slab Built, Thrown                     1\n",
       "Hand Built, Saggar Fired               3\n",
       "Hand Built, Coil Built                 4\n",
       "Hand Built, Slab Built                 4\n",
       "Hand Built, Slab Built, Thrown         6\n",
       "Hand built                             7\n",
       "Hand Built, Slipcast, Press Mould     12\n",
       "Thrown, Hand built                    12\n",
       "Hand Built, Thrown                    41\n",
       "Slipcast                              60\n",
       "Slab Built                            61\n",
       "Hand Built                           244\n",
       "Thrown                               636\n",
       "dtype: int64"
      ]
     },
     "execution_count": 32,
     "metadata": {},
     "output_type": "execute_result"
    }
   ],
   "source": [
    "pots.groupby(\"technique\").size().sort_values()"
   ]
  },
  {
   "cell_type": "code",
   "execution_count": 33,
   "metadata": {},
   "outputs": [],
   "source": [
    "pots.loc[pots[\"technique\"] != 'Thrown', 'technique'] = 'Hand built'"
   ]
  },
  {
   "cell_type": "code",
   "execution_count": 34,
   "metadata": {},
   "outputs": [
    {
     "data": {
      "text/plain": [
       "technique\n",
       "Hand built    492\n",
       "Thrown        636\n",
       "dtype: int64"
      ]
     },
     "execution_count": 34,
     "metadata": {},
     "output_type": "execute_result"
    }
   ],
   "source": [
    "pots.groupby(\"technique\").size().sort_values()"
   ]
  },
  {
   "cell_type": "code",
   "execution_count": 35,
   "metadata": {},
   "outputs": [
    {
     "data": {
      "text/plain": [
       "0"
      ]
     },
     "execution_count": 35,
     "metadata": {},
     "output_type": "execute_result"
    }
   ],
   "source": [
    "pots.technique.isna().sum()"
   ]
  },
  {
   "cell_type": "markdown",
   "metadata": {},
   "source": [
    "## Clean 'firing'"
   ]
  },
  {
   "cell_type": "code",
   "execution_count": 36,
   "metadata": {},
   "outputs": [
    {
     "data": {
      "text/plain": [
       "firing\n",
       "Smoke Fired                       2\n",
       "Smoked Fired                      2\n",
       "smoke-fired,                      4\n",
       "smoke fired                       5\n",
       "Wood, Soda Fired                  6\n",
       "Wood, Salt Glaze                  7\n",
       "Raku                              8\n",
       "Wood, Salt Glaze, Soda Fired     11\n",
       "Wood, Oil                        12\n",
       "Salt Glaze                       22\n",
       "Soda Fired                       45\n",
       "Gas                              47\n",
       "Wood                             60\n",
       "Electric                        297\n",
       "dtype: int64"
      ]
     },
     "execution_count": 36,
     "metadata": {},
     "output_type": "execute_result"
    }
   ],
   "source": [
    "pots.groupby(\"firing\").size().sort_values()"
   ]
  },
  {
   "cell_type": "code",
   "execution_count": 37,
   "metadata": {},
   "outputs": [
    {
     "data": {
      "text/plain": [
       "600"
      ]
     },
     "execution_count": 37,
     "metadata": {},
     "output_type": "execute_result"
    }
   ],
   "source": [
    "pots.firing.isna().sum()"
   ]
  },
  {
   "cell_type": "markdown",
   "metadata": {},
   "source": [
    "Let's do some investigating"
   ]
  },
  {
   "cell_type": "code",
   "execution_count": 38,
   "metadata": {},
   "outputs": [],
   "source": [
    "pots.loc[(pots[\"firing\"] == 'Smoke Fired') |\n",
    "         (pots[\"firing\"] == 'Smoked Fired') | \n",
    "         (pots[\"firing\"] == 'smoke-fired, ') | \n",
    "         (pots[\"firing\"] == 'smoke fired'), 'firing'] = 'Smoke fired'\n",
    "\n",
    "pots.loc[(pots[\"firing\"] == 'Wood, Soda Fired') |\n",
    "         (pots[\"firing\"] == 'Wood, Salt Glaze') | \n",
    "         (pots[\"firing\"] == 'Wood, Salt Glaze, Soda Fired') | \n",
    "         (pots[\"firing\"] == 'Wood, Oil') | \n",
    "         (pots[\"firing\"] == 'Smoke fired') | \n",
    "         (pots[\"firing\"] == 'Salt Glaze') | \n",
    "         (pots[\"firing\"] == 'Soda Fired') ,'firing'] = 'Wood'"
   ]
  },
  {
   "cell_type": "code",
   "execution_count": 39,
   "metadata": {},
   "outputs": [
    {
     "data": {
      "text/plain": [
       "firing\n",
       "Raku          8\n",
       "Gas          47\n",
       "Wood        176\n",
       "Electric    297\n",
       "dtype: int64"
      ]
     },
     "execution_count": 39,
     "metadata": {},
     "output_type": "execute_result"
    }
   ],
   "source": [
    "pots.groupby(\"firing\").size().sort_values()"
   ]
  },
  {
   "cell_type": "code",
   "execution_count": 40,
   "metadata": {},
   "outputs": [],
   "source": [
    "pots.firing = pots.firing.fillna('Electric')"
   ]
  },
  {
   "cell_type": "code",
   "execution_count": 41,
   "metadata": {},
   "outputs": [
    {
     "data": {
      "text/plain": [
       "0"
      ]
     },
     "execution_count": 41,
     "metadata": {},
     "output_type": "execute_result"
    }
   ],
   "source": [
    "pots.firing.isna().sum()"
   ]
  },
  {
   "cell_type": "markdown",
   "metadata": {},
   "source": [
    "## Clean 'decoration' column"
   ]
  },
  {
   "cell_type": "code",
   "execution_count": 42,
   "metadata": {},
   "outputs": [
    {
     "data": {
      "text/plain": [
       "decoration\n",
       "Slip Decoration, Terra Sigillata      2\n",
       "Terra Sigillata                       2\n",
       "Volcanic Glaze                        3\n",
       "Carved                                7\n",
       "Wax Resist                            7\n",
       "Sgraffito                            10\n",
       "Slip Decoration, Sgraffito           15\n",
       "Slip decoration                      37\n",
       "Slip Decoration                     167\n",
       "dtype: int64"
      ]
     },
     "execution_count": 42,
     "metadata": {},
     "output_type": "execute_result"
    }
   ],
   "source": [
    "pots.groupby(\"decoration\").size().sort_values()"
   ]
  },
  {
   "cell_type": "code",
   "execution_count": 43,
   "metadata": {},
   "outputs": [
    {
     "data": {
      "text/plain": [
       "878"
      ]
     },
     "execution_count": 43,
     "metadata": {},
     "output_type": "execute_result"
    }
   ],
   "source": [
    "pots.decoration.isna().sum()"
   ]
  },
  {
   "cell_type": "code",
   "execution_count": 44,
   "metadata": {},
   "outputs": [],
   "source": [
    "pots.loc[(pots['description'].str.contains('glaze', regex=True)) & (pots['decoration'].isna()), 'decoration'] = 'Glaze'\n",
    "pots.loc[(pots['name'].str.contains('glaze', regex=True)) & (pots['decoration'].isna()), 'decoration'] = 'Glaze'\n",
    "\n",
    "pots.loc[(pots['description'].str.contains('slip', regex=True)) & (pots['decoration'].isna()), 'decoration'] = 'Slip Decoration'\n",
    "pots.loc[(pots['description'].str.contains('engobe', regex=True)) & (pots['decoration'].isna()), 'decoration'] = 'Slip Decoration'\n",
    "\n",
    "pots.loc[(pots['description'].str.contains('lustre', regex=True)) & (pots['decoration'].isna()), 'decoration'] = 'Lustre'"
   ]
  },
  {
   "cell_type": "code",
   "execution_count": 45,
   "metadata": {},
   "outputs": [],
   "source": [
    "pots.loc[(pots[\"decoration\"] == 'Wax Resist') |\n",
    "         (pots[\"decoration\"] == 'Volcanic Glaze') |\n",
    "         (pots[\"decoration\"] == 'Carved'),'decoration'] = 'Glaze'\n",
    "\n",
    "pots.loc[(pots[\"decoration\"] == 'Slip Decoration, Terra Sigillata'),'decoration'] = 'Terra Sigillata'\n",
    "\n",
    "pots.loc[(pots[\"decoration\"] == 'Slip Decoration, Sgraffito'),'decoration'] = 'Sgraffito'\n",
    "\n",
    "pots.loc[(pots[\"decoration\"] == 'Slip Decoration'),'decoration'] = 'Slip decoration'"
   ]
  },
  {
   "cell_type": "code",
   "execution_count": 46,
   "metadata": {},
   "outputs": [
    {
     "data": {
      "text/plain": [
       "Series([], Name: decoration, dtype: object)"
      ]
     },
     "execution_count": 46,
     "metadata": {},
     "output_type": "execute_result"
    }
   ],
   "source": [
    "pots.loc[(pots['name'].str.contains('plain', regex=True)) & (pots['decoration'].isna()), 'decoration']"
   ]
  },
  {
   "cell_type": "code",
   "execution_count": 47,
   "metadata": {},
   "outputs": [
    {
     "data": {
      "text/html": [
       "<div>\n",
       "<style scoped>\n",
       "    .dataframe tbody tr th:only-of-type {\n",
       "        vertical-align: middle;\n",
       "    }\n",
       "\n",
       "    .dataframe tbody tr th {\n",
       "        vertical-align: top;\n",
       "    }\n",
       "\n",
       "    .dataframe thead th {\n",
       "        text-align: right;\n",
       "    }\n",
       "</style>\n",
       "<table border=\"1\" class=\"dataframe\">\n",
       "  <thead>\n",
       "    <tr style=\"text-align: right;\">\n",
       "      <th></th>\n",
       "      <th>productcode</th>\n",
       "      <th>price</th>\n",
       "      <th>maker</th>\n",
       "      <th>name</th>\n",
       "      <th>description</th>\n",
       "      <th>height</th>\n",
       "      <th>width</th>\n",
       "      <th>depth</th>\n",
       "      <th>materials</th>\n",
       "      <th>technique</th>\n",
       "      <th>firing</th>\n",
       "      <th>decoration</th>\n",
       "    </tr>\n",
       "  </thead>\n",
       "  <tbody>\n",
       "    <tr>\n",
       "      <td>709</td>\n",
       "      <td>K53Y142</td>\n",
       "      <td>1586.0</td>\n",
       "      <td>Ruth King</td>\n",
       "      <td>Open Cursive Curl</td>\n",
       "      <td>this hand-built stoneware sculptural vessel co...</td>\n",
       "      <td>28.0</td>\n",
       "      <td>25.0</td>\n",
       "      <td>13.0</td>\n",
       "      <td>Stoneware</td>\n",
       "      <td>Hand built</td>\n",
       "      <td>Electric</td>\n",
       "      <td>NaN</td>\n",
       "    </tr>\n",
       "    <tr>\n",
       "      <td>456</td>\n",
       "      <td>S2Y106</td>\n",
       "      <td>170.0</td>\n",
       "      <td>Peter Smith</td>\n",
       "      <td>Jug with Spider</td>\n",
       "      <td>a jug form from peter smith combines clay with...</td>\n",
       "      <td>24.0</td>\n",
       "      <td>12.0</td>\n",
       "      <td>NaN</td>\n",
       "      <td>Earthenware</td>\n",
       "      <td>Thrown</td>\n",
       "      <td>Electric</td>\n",
       "      <td>NaN</td>\n",
       "    </tr>\n",
       "    <tr>\n",
       "      <td>171</td>\n",
       "      <td>380Y212</td>\n",
       "      <td>595.0</td>\n",
       "      <td>Ostinelli and Priest</td>\n",
       "      <td>Sitting Glos Old Spot</td>\n",
       "      <td>an original sculptural piece capturing the cha...</td>\n",
       "      <td>29.0</td>\n",
       "      <td>28.0</td>\n",
       "      <td>19.0</td>\n",
       "      <td>Earthenware</td>\n",
       "      <td>Hand built</td>\n",
       "      <td>Electric</td>\n",
       "      <td>NaN</td>\n",
       "    </tr>\n",
       "    <tr>\n",
       "      <td>48</td>\n",
       "      <td>JK375Y209</td>\n",
       "      <td>49.0</td>\n",
       "      <td>John Kershaw</td>\n",
       "      <td>flattened vase with colour small</td>\n",
       "      <td>this stoneware vase is hand-built with a sandy...</td>\n",
       "      <td>14.5</td>\n",
       "      <td>6.0</td>\n",
       "      <td>3.5</td>\n",
       "      <td>Stoneware</td>\n",
       "      <td>Hand built</td>\n",
       "      <td>Electric</td>\n",
       "      <td>NaN</td>\n",
       "    </tr>\n",
       "    <tr>\n",
       "      <td>1072</td>\n",
       "      <td>389Y142</td>\n",
       "      <td>1465.0</td>\n",
       "      <td>Paul Philp</td>\n",
       "      <td>Angular Vessel with Lugs</td>\n",
       "      <td>this dark arched vessel stands at an angle, sl...</td>\n",
       "      <td>18.5</td>\n",
       "      <td>23.0</td>\n",
       "      <td>6.0</td>\n",
       "      <td>Stoneware</td>\n",
       "      <td>Hand built</td>\n",
       "      <td>Electric</td>\n",
       "      <td>NaN</td>\n",
       "    </tr>\n",
       "    <tr>\n",
       "      <td>1079</td>\n",
       "      <td>389Y135</td>\n",
       "      <td>1220.0</td>\n",
       "      <td>Paul Philp</td>\n",
       "      <td>Two-tone Vessel</td>\n",
       "      <td>featuring contrasting decoration directly oppo...</td>\n",
       "      <td>23.0</td>\n",
       "      <td>22.0</td>\n",
       "      <td>7.0</td>\n",
       "      <td>Stoneware</td>\n",
       "      <td>Hand built</td>\n",
       "      <td>Electric</td>\n",
       "      <td>NaN</td>\n",
       "    </tr>\n",
       "    <tr>\n",
       "      <td>229</td>\n",
       "      <td>JD91Y768</td>\n",
       "      <td>2196.0</td>\n",
       "      <td>Jack Doherty</td>\n",
       "      <td>Large Bowl</td>\n",
       "      <td>this bowl is wheel-thrown with a bold simplici...</td>\n",
       "      <td>25.0</td>\n",
       "      <td>33.0</td>\n",
       "      <td>32.0</td>\n",
       "      <td>Porcelain</td>\n",
       "      <td>Thrown</td>\n",
       "      <td>Electric</td>\n",
       "      <td>NaN</td>\n",
       "    </tr>\n",
       "    <tr>\n",
       "      <td>922</td>\n",
       "      <td>BD110Y189</td>\n",
       "      <td>195.0</td>\n",
       "      <td>Bridget Drakeford</td>\n",
       "      <td>Bowl</td>\n",
       "      <td>this beautiful copper red bowl is carved and h...</td>\n",
       "      <td>10.0</td>\n",
       "      <td>22.0</td>\n",
       "      <td>NaN</td>\n",
       "      <td>Porcelain</td>\n",
       "      <td>Thrown</td>\n",
       "      <td>Gas</td>\n",
       "      <td>NaN</td>\n",
       "    </tr>\n",
       "    <tr>\n",
       "      <td>539</td>\n",
       "      <td>JFK394Y238</td>\n",
       "      <td>268.0</td>\n",
       "      <td>Jill Fanshawe Kato</td>\n",
       "      <td>Stem Vase with Lugs</td>\n",
       "      <td>this delightful vase is made of stoneware and ...</td>\n",
       "      <td>19.0</td>\n",
       "      <td>10.0</td>\n",
       "      <td>8.5</td>\n",
       "      <td>Stoneware</td>\n",
       "      <td>Thrown</td>\n",
       "      <td>Electric</td>\n",
       "      <td>NaN</td>\n",
       "    </tr>\n",
       "    <tr>\n",
       "      <td>288</td>\n",
       "      <td>M521Y13</td>\n",
       "      <td>244.0</td>\n",
       "      <td>Eric Moss</td>\n",
       "      <td>Pipe</td>\n",
       "      <td>this parian porcelain sculptural wall piece co...</td>\n",
       "      <td>50.0</td>\n",
       "      <td>25.0</td>\n",
       "      <td>7.0</td>\n",
       "      <td>Porcelain</td>\n",
       "      <td>Hand built</td>\n",
       "      <td>Electric</td>\n",
       "      <td>NaN</td>\n",
       "    </tr>\n",
       "    <tr>\n",
       "      <td>273</td>\n",
       "      <td>BA182Y707</td>\n",
       "      <td>244.0</td>\n",
       "      <td>Billy Adams</td>\n",
       "      <td>Rosen Vessel</td>\n",
       "      <td>this stoneware sculptural vessel is hand-built...</td>\n",
       "      <td>21.0</td>\n",
       "      <td>13.0</td>\n",
       "      <td>5.5</td>\n",
       "      <td>Stoneware</td>\n",
       "      <td>Hand built</td>\n",
       "      <td>Electric</td>\n",
       "      <td>NaN</td>\n",
       "    </tr>\n",
       "    <tr>\n",
       "      <td>1106</td>\n",
       "      <td>MC323Y42</td>\n",
       "      <td>1500.0</td>\n",
       "      <td>Matthew Chambers</td>\n",
       "      <td>Twins</td>\n",
       "      <td>sold as a pair, these ‘twins’ sculptures are a...</td>\n",
       "      <td>16.0</td>\n",
       "      <td>16.0</td>\n",
       "      <td>11.0</td>\n",
       "      <td>Stoneware</td>\n",
       "      <td>Thrown</td>\n",
       "      <td>Electric</td>\n",
       "      <td>NaN</td>\n",
       "    </tr>\n",
       "    <tr>\n",
       "      <td>372</td>\n",
       "      <td>AH31Y382</td>\n",
       "      <td>190.0</td>\n",
       "      <td>Ashley Howard</td>\n",
       "      <td>Curvature</td>\n",
       "      <td>this vessel is wheel-thrown and altered in por...</td>\n",
       "      <td>12.0</td>\n",
       "      <td>11.5</td>\n",
       "      <td>11.5</td>\n",
       "      <td>Porcelain</td>\n",
       "      <td>Thrown</td>\n",
       "      <td>Electric</td>\n",
       "      <td>NaN</td>\n",
       "    </tr>\n",
       "    <tr>\n",
       "      <td>431</td>\n",
       "      <td>SH379Y25</td>\n",
       "      <td>235.0</td>\n",
       "      <td>Simon Hulbert</td>\n",
       "      <td>Plate</td>\n",
       "      <td>this plate is wheel-thrown in porcelain,  the ...</td>\n",
       "      <td>3.0</td>\n",
       "      <td>26.0</td>\n",
       "      <td>NaN</td>\n",
       "      <td>Porcelain</td>\n",
       "      <td>Thrown</td>\n",
       "      <td>Electric</td>\n",
       "      <td>NaN</td>\n",
       "    </tr>\n",
       "    <tr>\n",
       "      <td>348</td>\n",
       "      <td>B480Y3</td>\n",
       "      <td>120.0</td>\n",
       "      <td>Rob Bibby</td>\n",
       "      <td>Teapot</td>\n",
       "      <td>this earthenware teapot is wheel-thrown and ha...</td>\n",
       "      <td>18.0</td>\n",
       "      <td>20.0</td>\n",
       "      <td>15.0</td>\n",
       "      <td>Earthenware</td>\n",
       "      <td>Thrown</td>\n",
       "      <td>Electric</td>\n",
       "      <td>NaN</td>\n",
       "    </tr>\n",
       "    <tr>\n",
       "      <td>112</td>\n",
       "      <td>HT473Y35</td>\n",
       "      <td>98.0</td>\n",
       "      <td>Hiro Takahashi</td>\n",
       "      <td>Message Box</td>\n",
       "      <td>this delightful raku message box has a surface...</td>\n",
       "      <td>10.0</td>\n",
       "      <td>9.5</td>\n",
       "      <td>6.5</td>\n",
       "      <td>Stoneware</td>\n",
       "      <td>Hand built</td>\n",
       "      <td>Electric</td>\n",
       "      <td>NaN</td>\n",
       "    </tr>\n",
       "    <tr>\n",
       "      <td>425</td>\n",
       "      <td>SH379Y27</td>\n",
       "      <td>395.0</td>\n",
       "      <td>Simon Hulbert</td>\n",
       "      <td>Cylindrical Vessel</td>\n",
       "      <td>this vessel is wheel-thrown in porcelain,  the...</td>\n",
       "      <td>31.0</td>\n",
       "      <td>15.0</td>\n",
       "      <td>NaN</td>\n",
       "      <td>Porcelain</td>\n",
       "      <td>Thrown</td>\n",
       "      <td>Electric</td>\n",
       "      <td>NaN</td>\n",
       "    </tr>\n",
       "    <tr>\n",
       "      <td>128</td>\n",
       "      <td>MC323Y66</td>\n",
       "      <td>1500.0</td>\n",
       "      <td>Matthew Chambers</td>\n",
       "      <td>Eclipse</td>\n",
       "      <td>a striking yet calm addition to any collection...</td>\n",
       "      <td>20.0</td>\n",
       "      <td>18.5</td>\n",
       "      <td>15.0</td>\n",
       "      <td>Stoneware</td>\n",
       "      <td>Thrown</td>\n",
       "      <td>Electric</td>\n",
       "      <td>NaN</td>\n",
       "    </tr>\n",
       "    <tr>\n",
       "      <td>351</td>\n",
       "      <td>B480Y62</td>\n",
       "      <td>60.0</td>\n",
       "      <td>Rob Bibby</td>\n",
       "      <td>Lidded Bowl</td>\n",
       "      <td>this earthenware lidded bowl is wheel-thrown a...</td>\n",
       "      <td>11.0</td>\n",
       "      <td>15.0</td>\n",
       "      <td>NaN</td>\n",
       "      <td>Earthenware</td>\n",
       "      <td>Thrown</td>\n",
       "      <td>Electric</td>\n",
       "      <td>NaN</td>\n",
       "    </tr>\n",
       "    <tr>\n",
       "      <td>253</td>\n",
       "      <td>MM200Y382</td>\n",
       "      <td>420.0</td>\n",
       "      <td>Martin McWilliam</td>\n",
       "      <td>Sculptural Object</td>\n",
       "      <td>inspired by traditional japanese pottery, this...</td>\n",
       "      <td>37.0</td>\n",
       "      <td>22.0</td>\n",
       "      <td>8.0</td>\n",
       "      <td>Stoneware</td>\n",
       "      <td>Hand built</td>\n",
       "      <td>Wood</td>\n",
       "      <td>NaN</td>\n",
       "    </tr>\n",
       "  </tbody>\n",
       "</table>\n",
       "</div>"
      ],
      "text/plain": [
       "     productcode   price                 maker  \\\n",
       "709      K53Y142  1586.0             Ruth King   \n",
       "456       S2Y106   170.0           Peter Smith   \n",
       "171      380Y212   595.0  Ostinelli and Priest   \n",
       "48     JK375Y209    49.0          John Kershaw   \n",
       "1072     389Y142  1465.0            Paul Philp   \n",
       "1079     389Y135  1220.0            Paul Philp   \n",
       "229     JD91Y768  2196.0          Jack Doherty   \n",
       "922    BD110Y189   195.0     Bridget Drakeford   \n",
       "539   JFK394Y238   268.0    Jill Fanshawe Kato   \n",
       "288      M521Y13   244.0             Eric Moss   \n",
       "273    BA182Y707   244.0           Billy Adams   \n",
       "1106    MC323Y42  1500.0      Matthew Chambers   \n",
       "372     AH31Y382   190.0         Ashley Howard   \n",
       "431     SH379Y25   235.0         Simon Hulbert   \n",
       "348       B480Y3   120.0             Rob Bibby   \n",
       "112     HT473Y35    98.0        Hiro Takahashi   \n",
       "425     SH379Y27   395.0         Simon Hulbert   \n",
       "128     MC323Y66  1500.0      Matthew Chambers   \n",
       "351      B480Y62    60.0             Rob Bibby   \n",
       "253    MM200Y382   420.0      Martin McWilliam   \n",
       "\n",
       "                                  name  \\\n",
       "709                  Open Cursive Curl   \n",
       "456                    Jug with Spider   \n",
       "171              Sitting Glos Old Spot   \n",
       "48    flattened vase with colour small   \n",
       "1072          Angular Vessel with Lugs   \n",
       "1079                   Two-tone Vessel   \n",
       "229                         Large Bowl   \n",
       "922                               Bowl   \n",
       "539                Stem Vase with Lugs   \n",
       "288                               Pipe   \n",
       "273                       Rosen Vessel   \n",
       "1106                             Twins   \n",
       "372                          Curvature   \n",
       "431                              Plate   \n",
       "348                             Teapot   \n",
       "112                        Message Box   \n",
       "425                 Cylindrical Vessel   \n",
       "128                            Eclipse   \n",
       "351                        Lidded Bowl   \n",
       "253                  Sculptural Object   \n",
       "\n",
       "                                            description  height  width  depth  \\\n",
       "709   this hand-built stoneware sculptural vessel co...    28.0   25.0   13.0   \n",
       "456   a jug form from peter smith combines clay with...    24.0   12.0    NaN   \n",
       "171   an original sculptural piece capturing the cha...    29.0   28.0   19.0   \n",
       "48    this stoneware vase is hand-built with a sandy...    14.5    6.0    3.5   \n",
       "1072  this dark arched vessel stands at an angle, sl...    18.5   23.0    6.0   \n",
       "1079  featuring contrasting decoration directly oppo...    23.0   22.0    7.0   \n",
       "229   this bowl is wheel-thrown with a bold simplici...    25.0   33.0   32.0   \n",
       "922   this beautiful copper red bowl is carved and h...    10.0   22.0    NaN   \n",
       "539   this delightful vase is made of stoneware and ...    19.0   10.0    8.5   \n",
       "288   this parian porcelain sculptural wall piece co...    50.0   25.0    7.0   \n",
       "273   this stoneware sculptural vessel is hand-built...    21.0   13.0    5.5   \n",
       "1106  sold as a pair, these ‘twins’ sculptures are a...    16.0   16.0   11.0   \n",
       "372   this vessel is wheel-thrown and altered in por...    12.0   11.5   11.5   \n",
       "431   this plate is wheel-thrown in porcelain,  the ...     3.0   26.0    NaN   \n",
       "348   this earthenware teapot is wheel-thrown and ha...    18.0   20.0   15.0   \n",
       "112   this delightful raku message box has a surface...    10.0    9.5    6.5   \n",
       "425   this vessel is wheel-thrown in porcelain,  the...    31.0   15.0    NaN   \n",
       "128   a striking yet calm addition to any collection...    20.0   18.5   15.0   \n",
       "351   this earthenware lidded bowl is wheel-thrown a...    11.0   15.0    NaN   \n",
       "253   inspired by traditional japanese pottery, this...    37.0   22.0    8.0   \n",
       "\n",
       "        materials   technique    firing decoration  \n",
       "709     Stoneware  Hand built  Electric        NaN  \n",
       "456   Earthenware      Thrown  Electric        NaN  \n",
       "171   Earthenware  Hand built  Electric        NaN  \n",
       "48      Stoneware  Hand built  Electric        NaN  \n",
       "1072    Stoneware  Hand built  Electric        NaN  \n",
       "1079    Stoneware  Hand built  Electric        NaN  \n",
       "229     Porcelain      Thrown  Electric        NaN  \n",
       "922     Porcelain      Thrown       Gas        NaN  \n",
       "539     Stoneware      Thrown  Electric        NaN  \n",
       "288     Porcelain  Hand built  Electric        NaN  \n",
       "273     Stoneware  Hand built  Electric        NaN  \n",
       "1106    Stoneware      Thrown  Electric        NaN  \n",
       "372     Porcelain      Thrown  Electric        NaN  \n",
       "431     Porcelain      Thrown  Electric        NaN  \n",
       "348   Earthenware      Thrown  Electric        NaN  \n",
       "112     Stoneware  Hand built  Electric        NaN  \n",
       "425     Porcelain      Thrown  Electric        NaN  \n",
       "128     Stoneware      Thrown  Electric        NaN  \n",
       "351   Earthenware      Thrown  Electric        NaN  \n",
       "253     Stoneware  Hand built      Wood        NaN  "
      ]
     },
     "execution_count": 47,
     "metadata": {},
     "output_type": "execute_result"
    }
   ],
   "source": [
    "pots[pots.decoration.isna()].sample(20)"
   ]
  },
  {
   "cell_type": "code",
   "execution_count": 48,
   "metadata": {},
   "outputs": [
    {
     "data": {
      "text/plain": [
       "productcode                                            JK375Y202\n",
       "price                                                         59\n",
       "maker                                               John Kershaw\n",
       "name                                  flattened vase with colour\n",
       "description    this stoneware vase is hand-built with a sandy...\n",
       "height                                                      20.5\n",
       "width                                                          9\n",
       "depth                                                          6\n",
       "materials                                              Stoneware\n",
       "technique                                             Hand built\n",
       "firing                                                  Electric\n",
       "decoration                                                   NaN\n",
       "Name: 55, dtype: object"
      ]
     },
     "execution_count": 48,
     "metadata": {},
     "output_type": "execute_result"
    }
   ],
   "source": [
    "pots.iloc[55]"
   ]
  },
  {
   "cell_type": "code",
   "execution_count": 49,
   "metadata": {},
   "outputs": [
    {
     "data": {
      "text/plain": [
       "decoration\n",
       "Terra Sigillata      4\n",
       "Lustre              17\n",
       "Sgraffito           25\n",
       "Slip decoration    317\n",
       "Glaze              436\n",
       "dtype: int64"
      ]
     },
     "execution_count": 49,
     "metadata": {},
     "output_type": "execute_result"
    }
   ],
   "source": [
    "pots.groupby(\"decoration\").size().sort_values()"
   ]
  },
  {
   "cell_type": "code",
   "execution_count": 80,
   "metadata": {},
   "outputs": [],
   "source": [
    "pots.loc[pots.decoration.isna(), 'decoration'] = 'Glaze'"
   ]
  },
  {
   "cell_type": "markdown",
   "metadata": {},
   "source": [
    "## Clean 'height','width' dimension"
   ]
  },
  {
   "cell_type": "code",
   "execution_count": 50,
   "metadata": {},
   "outputs": [
    {
     "data": {
      "text/plain": [
       "5"
      ]
     },
     "execution_count": 50,
     "metadata": {},
     "output_type": "execute_result"
    }
   ],
   "source": [
    "pots.height.isna().sum()"
   ]
  },
  {
   "cell_type": "code",
   "execution_count": 51,
   "metadata": {},
   "outputs": [
    {
     "data": {
      "text/plain": [
       "10"
      ]
     },
     "execution_count": 51,
     "metadata": {},
     "output_type": "execute_result"
    }
   ],
   "source": [
    "pots.width.isna().sum()"
   ]
  },
  {
   "cell_type": "code",
   "execution_count": 52,
   "metadata": {},
   "outputs": [
    {
     "data": {
      "text/html": [
       "<div>\n",
       "<style scoped>\n",
       "    .dataframe tbody tr th:only-of-type {\n",
       "        vertical-align: middle;\n",
       "    }\n",
       "\n",
       "    .dataframe tbody tr th {\n",
       "        vertical-align: top;\n",
       "    }\n",
       "\n",
       "    .dataframe thead th {\n",
       "        text-align: right;\n",
       "    }\n",
       "</style>\n",
       "<table border=\"1\" class=\"dataframe\">\n",
       "  <thead>\n",
       "    <tr style=\"text-align: right;\">\n",
       "      <th></th>\n",
       "      <th>productcode</th>\n",
       "      <th>price</th>\n",
       "      <th>maker</th>\n",
       "      <th>name</th>\n",
       "      <th>description</th>\n",
       "      <th>height</th>\n",
       "      <th>width</th>\n",
       "      <th>depth</th>\n",
       "      <th>materials</th>\n",
       "      <th>technique</th>\n",
       "      <th>firing</th>\n",
       "      <th>decoration</th>\n",
       "    </tr>\n",
       "  </thead>\n",
       "  <tbody>\n",
       "    <tr>\n",
       "      <td>816</td>\n",
       "      <td>GiftCard</td>\n",
       "      <td>5.0</td>\n",
       "      <td>NaN</td>\n",
       "      <td>Gift Card</td>\n",
       "      <td>the perfect present for any ceramic enthusiast...</td>\n",
       "      <td>NaN</td>\n",
       "      <td>NaN</td>\n",
       "      <td>NaN</td>\n",
       "      <td>Stoneware</td>\n",
       "      <td>Hand built</td>\n",
       "      <td>Electric</td>\n",
       "      <td>NaN</td>\n",
       "    </tr>\n",
       "    <tr>\n",
       "      <td>817</td>\n",
       "      <td>GiftCard</td>\n",
       "      <td>5.0</td>\n",
       "      <td>NaN</td>\n",
       "      <td>Gift Card</td>\n",
       "      <td>the perfect present for any ceramic enthusiast...</td>\n",
       "      <td>NaN</td>\n",
       "      <td>NaN</td>\n",
       "      <td>NaN</td>\n",
       "      <td>Stoneware</td>\n",
       "      <td>Hand built</td>\n",
       "      <td>Electric</td>\n",
       "      <td>NaN</td>\n",
       "    </tr>\n",
       "    <tr>\n",
       "      <td>902</td>\n",
       "      <td>JCJ408X147</td>\n",
       "      <td>172.0</td>\n",
       "      <td>Jonathan Chiswell Jones</td>\n",
       "      <td>Floral windows small bowl</td>\n",
       "      <td>this wheel-thrown porcelain bowl has been orna...</td>\n",
       "      <td>NaN</td>\n",
       "      <td>21.5</td>\n",
       "      <td>NaN</td>\n",
       "      <td>Porcelain</td>\n",
       "      <td>Thrown</td>\n",
       "      <td>Gas</td>\n",
       "      <td>Lustre</td>\n",
       "    </tr>\n",
       "    <tr>\n",
       "      <td>905</td>\n",
       "      <td>JCJ408X148</td>\n",
       "      <td>172.0</td>\n",
       "      <td>Jonathan Chiswell Jones</td>\n",
       "      <td>Tulips small bowl</td>\n",
       "      <td>this wheel-thrown porcelain bowl has been orna...</td>\n",
       "      <td>NaN</td>\n",
       "      <td>21.5</td>\n",
       "      <td>NaN</td>\n",
       "      <td>Porcelain</td>\n",
       "      <td>Thrown</td>\n",
       "      <td>Gas</td>\n",
       "      <td>Lustre</td>\n",
       "    </tr>\n",
       "    <tr>\n",
       "      <td>1008</td>\n",
       "      <td>56Y1010</td>\n",
       "      <td>500.0</td>\n",
       "      <td>Richard Phethean</td>\n",
       "      <td>Black Earthenware Dish</td>\n",
       "      <td>black earthenware dish. thrown in a coarse-tex...</td>\n",
       "      <td>NaN</td>\n",
       "      <td>39.0</td>\n",
       "      <td>NaN</td>\n",
       "      <td>Earthenware</td>\n",
       "      <td>Thrown</td>\n",
       "      <td>Electric</td>\n",
       "      <td>Slip decoration</td>\n",
       "    </tr>\n",
       "  </tbody>\n",
       "</table>\n",
       "</div>"
      ],
      "text/plain": [
       "     productcode  price                    maker                       name  \\\n",
       "816     GiftCard    5.0                      NaN                  Gift Card   \n",
       "817     GiftCard    5.0                      NaN                  Gift Card   \n",
       "902   JCJ408X147  172.0  Jonathan Chiswell Jones  Floral windows small bowl   \n",
       "905   JCJ408X148  172.0  Jonathan Chiswell Jones          Tulips small bowl   \n",
       "1008     56Y1010  500.0         Richard Phethean     Black Earthenware Dish   \n",
       "\n",
       "                                            description  height  width  depth  \\\n",
       "816   the perfect present for any ceramic enthusiast...     NaN    NaN    NaN   \n",
       "817   the perfect present for any ceramic enthusiast...     NaN    NaN    NaN   \n",
       "902   this wheel-thrown porcelain bowl has been orna...     NaN   21.5    NaN   \n",
       "905   this wheel-thrown porcelain bowl has been orna...     NaN   21.5    NaN   \n",
       "1008  black earthenware dish. thrown in a coarse-tex...     NaN   39.0    NaN   \n",
       "\n",
       "        materials   technique    firing       decoration  \n",
       "816     Stoneware  Hand built  Electric              NaN  \n",
       "817     Stoneware  Hand built  Electric              NaN  \n",
       "902     Porcelain      Thrown       Gas           Lustre  \n",
       "905     Porcelain      Thrown       Gas           Lustre  \n",
       "1008  Earthenware      Thrown  Electric  Slip decoration  "
      ]
     },
     "execution_count": 52,
     "metadata": {},
     "output_type": "execute_result"
    }
   ],
   "source": [
    "pots[pots.height.isna()]"
   ]
  },
  {
   "cell_type": "code",
   "execution_count": 53,
   "metadata": {},
   "outputs": [],
   "source": [
    "pots = pots.drop([816, 817])"
   ]
  },
  {
   "cell_type": "code",
   "execution_count": 54,
   "metadata": {},
   "outputs": [
    {
     "data": {
      "text/plain": [
       "<matplotlib.axes._subplots.AxesSubplot at 0x1a20312ad0>"
      ]
     },
     "execution_count": 54,
     "metadata": {},
     "output_type": "execute_result"
    },
    {
     "data": {
      "image/png": "[encoded data removed]",
      "text/plain": [
       "<Figure size 432x288 with 1 Axes>"
      ]
     },
     "metadata": {
      "needs_background": "light"
     },
     "output_type": "display_data"
    }
   ],
   "source": [
    "sns.regplot(x = pots.width, y=pots.height)"
   ]
  },
  {
   "cell_type": "code",
   "execution_count": 55,
   "metadata": {},
   "outputs": [
    {
     "data": {
      "text/plain": [
       "0"
      ]
     },
     "execution_count": 55,
     "metadata": {},
     "output_type": "execute_result"
    }
   ],
   "source": [
    "pots.height.fillna(pots.height.mean(), inplace=True)\n",
    "pots.width.fillna(pots.width.mean(), inplace=True)\n",
    "\n",
    "pots.height.isna().sum()\n",
    "pots.width.isna().sum()"
   ]
  },
  {
   "cell_type": "markdown",
   "metadata": {},
   "source": [
    "## Clean 'depth' dimension"
   ]
  },
  {
   "cell_type": "code",
   "execution_count": 56,
   "metadata": {},
   "outputs": [
    {
     "data": {
      "text/plain": [
       "565"
      ]
     },
     "execution_count": 56,
     "metadata": {},
     "output_type": "execute_result"
    }
   ],
   "source": [
    "pots.depth.isna().sum()"
   ]
  },
  {
   "cell_type": "code",
   "execution_count": 57,
   "metadata": {},
   "outputs": [
    {
     "data": {
      "text/plain": [
       "<matplotlib.axes._subplots.AxesSubplot at 0x1a2036bd90>"
      ]
     },
     "execution_count": 57,
     "metadata": {},
     "output_type": "execute_result"
    },
    {
     "data": {
      "image/png": "[encoded data removed]",
      "text/plain": [
       "<Figure size 432x288 with 1 Axes>"
      ]
     },
     "metadata": {
      "needs_background": "light"
     },
     "output_type": "display_data"
    }
   ],
   "source": [
    "sns.regplot(x = pots.width, y=pots.depth)"
   ]
  },
  {
   "cell_type": "markdown",
   "metadata": {},
   "source": [
    "Will impute missing values using imputed regression from the width column. To do: identify the linear equation that describes the above equation"
   ]
  },
  {
   "cell_type": "code",
   "execution_count": 58,
   "metadata": {},
   "outputs": [
    {
     "name": "stdout",
     "output_type": "stream",
     "text": [
      "(561, 1) (561,)\n"
     ]
    }
   ],
   "source": [
    "X = pots[~pots.depth.isna()].width.reset_index()\n",
    "X = X[['width']]\n",
    "y = pots[~pots.depth.isna()].depth\n",
    "\n",
    "print(X.shape, y.shape)"
   ]
  },
  {
   "cell_type": "code",
   "execution_count": 59,
   "metadata": {},
   "outputs": [
    {
     "name": "stdout",
     "output_type": "stream",
     "text": [
      "4.673713321315593 0.42368468811874904\n"
     ]
    }
   ],
   "source": [
    "lin_reg = LinearRegression()\n",
    "lin_reg.fit(X, y)\n",
    "C = lin_reg.intercept_\n",
    "m = float(lin_reg.coef_)\n",
    "print(C, m)"
   ]
  },
  {
   "cell_type": "code",
   "execution_count": 60,
   "metadata": {},
   "outputs": [],
   "source": [
    "for i in  pots[pots.depth.isna()].index: \n",
    "    pots.loc[i, 'depth'] = m*pots.loc[i, 'width'] + C\n"
   ]
  },
  {
   "cell_type": "code",
   "execution_count": 61,
   "metadata": {},
   "outputs": [
    {
     "data": {
      "text/plain": [
       "0"
      ]
     },
     "execution_count": 61,
     "metadata": {},
     "output_type": "execute_result"
    }
   ],
   "source": [
    "pots.depth.isna().sum()"
   ]
  },
  {
   "cell_type": "code",
   "execution_count": 62,
   "metadata": {},
   "outputs": [],
   "source": [
    "pots.depth = pots.depth.round(1)"
   ]
  },
  {
   "cell_type": "markdown",
   "metadata": {},
   "source": [
    "## Clean 'maker' column"
   ]
  },
  {
   "cell_type": "code",
   "execution_count": 83,
   "metadata": {},
   "outputs": [
    {
     "data": {
      "text/html": [
       "<div>\n",
       "<style scoped>\n",
       "    .dataframe tbody tr th:only-of-type {\n",
       "        vertical-align: middle;\n",
       "    }\n",
       "\n",
       "    .dataframe tbody tr th {\n",
       "        vertical-align: top;\n",
       "    }\n",
       "\n",
       "    .dataframe thead th {\n",
       "        text-align: right;\n",
       "    }\n",
       "</style>\n",
       "<table border=\"1\" class=\"dataframe\">\n",
       "  <thead>\n",
       "    <tr style=\"text-align: right;\">\n",
       "      <th></th>\n",
       "      <th>productcode</th>\n",
       "      <th>price</th>\n",
       "      <th>maker</th>\n",
       "      <th>name</th>\n",
       "      <th>description</th>\n",
       "      <th>height</th>\n",
       "      <th>width</th>\n",
       "      <th>depth</th>\n",
       "      <th>materials</th>\n",
       "      <th>technique</th>\n",
       "      <th>firing</th>\n",
       "      <th>decoration</th>\n",
       "    </tr>\n",
       "  </thead>\n",
       "  <tbody>\n",
       "    <tr>\n",
       "      <td>689</td>\n",
       "      <td>AB326Y563</td>\n",
       "      <td>150.0</td>\n",
       "      <td>NaN</td>\n",
       "      <td>mini moon jar</td>\n",
       "      <td>mini porcelain moon jar with pale celadon glaze.</td>\n",
       "      <td>10.0</td>\n",
       "      <td>9.0</td>\n",
       "      <td>8.5</td>\n",
       "      <td>Porcelain</td>\n",
       "      <td>Thrown</td>\n",
       "      <td>Wood</td>\n",
       "      <td>Glaze</td>\n",
       "    </tr>\n",
       "  </tbody>\n",
       "</table>\n",
       "</div>"
      ],
      "text/plain": [
       "    productcode  price maker           name  \\\n",
       "689   AB326Y563  150.0   NaN  mini moon jar   \n",
       "\n",
       "                                          description  height  width  depth  \\\n",
       "689  mini porcelain moon jar with pale celadon glaze.    10.0    9.0    8.5   \n",
       "\n",
       "     materials technique firing decoration  \n",
       "689  Porcelain    Thrown   Wood      Glaze  "
      ]
     },
     "execution_count": 83,
     "metadata": {},
     "output_type": "execute_result"
    }
   ],
   "source": [
    "pots[pots.maker.isna()]"
   ]
  },
  {
   "cell_type": "code",
   "execution_count": 85,
   "metadata": {},
   "outputs": [
    {
     "data": {
      "text/html": [
       "<div>\n",
       "<style scoped>\n",
       "    .dataframe tbody tr th:only-of-type {\n",
       "        vertical-align: middle;\n",
       "    }\n",
       "\n",
       "    .dataframe tbody tr th {\n",
       "        vertical-align: top;\n",
       "    }\n",
       "\n",
       "    .dataframe thead th {\n",
       "        text-align: right;\n",
       "    }\n",
       "</style>\n",
       "<table border=\"1\" class=\"dataframe\">\n",
       "  <thead>\n",
       "    <tr style=\"text-align: right;\">\n",
       "      <th></th>\n",
       "      <th>productcode</th>\n",
       "      <th>price</th>\n",
       "      <th>maker</th>\n",
       "      <th>name</th>\n",
       "      <th>description</th>\n",
       "      <th>height</th>\n",
       "      <th>width</th>\n",
       "      <th>depth</th>\n",
       "      <th>materials</th>\n",
       "      <th>technique</th>\n",
       "      <th>firing</th>\n",
       "      <th>decoration</th>\n",
       "    </tr>\n",
       "  </thead>\n",
       "  <tbody>\n",
       "    <tr>\n",
       "      <td>477</td>\n",
       "      <td>AB326Y559</td>\n",
       "      <td>150.0</td>\n",
       "      <td>Adam Buick</td>\n",
       "      <td>mini moon jar</td>\n",
       "      <td>mini porcelain moon jar with iron rich slate i...</td>\n",
       "      <td>10.0</td>\n",
       "      <td>9.0</td>\n",
       "      <td>8.5</td>\n",
       "      <td>Porcelain</td>\n",
       "      <td>Thrown</td>\n",
       "      <td>Wood</td>\n",
       "      <td>Glaze</td>\n",
       "    </tr>\n",
       "    <tr>\n",
       "      <td>478</td>\n",
       "      <td>AB326Y562</td>\n",
       "      <td>150.0</td>\n",
       "      <td>Adam Buick</td>\n",
       "      <td>mini moon jar</td>\n",
       "      <td>mini porcelain moon jar with iron rich slate i...</td>\n",
       "      <td>10.0</td>\n",
       "      <td>9.0</td>\n",
       "      <td>8.5</td>\n",
       "      <td>Porcelain</td>\n",
       "      <td>Thrown</td>\n",
       "      <td>Wood</td>\n",
       "      <td>Glaze</td>\n",
       "    </tr>\n",
       "    <tr>\n",
       "      <td>682</td>\n",
       "      <td>AB326Y553</td>\n",
       "      <td>150.0</td>\n",
       "      <td>Adam Buick</td>\n",
       "      <td>mini moon jar</td>\n",
       "      <td>mini porcelain moon jar with iron rich slate i...</td>\n",
       "      <td>10.0</td>\n",
       "      <td>9.0</td>\n",
       "      <td>8.5</td>\n",
       "      <td>Porcelain</td>\n",
       "      <td>Thrown</td>\n",
       "      <td>Wood</td>\n",
       "      <td>Glaze</td>\n",
       "    </tr>\n",
       "    <tr>\n",
       "      <td>683</td>\n",
       "      <td>AB326Y552</td>\n",
       "      <td>150.0</td>\n",
       "      <td>Adam Buick</td>\n",
       "      <td>mini moon jar</td>\n",
       "      <td>mini coloured porcelain moon jar with patina f...</td>\n",
       "      <td>10.0</td>\n",
       "      <td>9.0</td>\n",
       "      <td>8.5</td>\n",
       "      <td>Porcelain</td>\n",
       "      <td>Thrown</td>\n",
       "      <td>Wood</td>\n",
       "      <td>Glaze</td>\n",
       "    </tr>\n",
       "    <tr>\n",
       "      <td>684</td>\n",
       "      <td>AB326Y555</td>\n",
       "      <td>150.0</td>\n",
       "      <td>Adam Buick</td>\n",
       "      <td>mini moon jar</td>\n",
       "      <td>mini stoneware moon jar with china clay slip a...</td>\n",
       "      <td>10.0</td>\n",
       "      <td>9.0</td>\n",
       "      <td>8.5</td>\n",
       "      <td>Stoneware</td>\n",
       "      <td>Thrown</td>\n",
       "      <td>Wood</td>\n",
       "      <td>Glaze</td>\n",
       "    </tr>\n",
       "    <tr>\n",
       "      <td>685</td>\n",
       "      <td>AB326Y564</td>\n",
       "      <td>150.0</td>\n",
       "      <td>Adam Buick</td>\n",
       "      <td>mini moon jar</td>\n",
       "      <td>mini porcelain moon jar with olive celadon glaze.</td>\n",
       "      <td>10.0</td>\n",
       "      <td>9.0</td>\n",
       "      <td>8.5</td>\n",
       "      <td>Porcelain</td>\n",
       "      <td>Thrown</td>\n",
       "      <td>Wood</td>\n",
       "      <td>Glaze</td>\n",
       "    </tr>\n",
       "    <tr>\n",
       "      <td>686</td>\n",
       "      <td>AB326Y556</td>\n",
       "      <td>150.0</td>\n",
       "      <td>Adam Buick</td>\n",
       "      <td>mini moon jar</td>\n",
       "      <td>mini coloured stoneware moon jar with china cl...</td>\n",
       "      <td>11.0</td>\n",
       "      <td>9.0</td>\n",
       "      <td>8.5</td>\n",
       "      <td>Stoneware</td>\n",
       "      <td>Thrown</td>\n",
       "      <td>Wood</td>\n",
       "      <td>Slip decoration</td>\n",
       "    </tr>\n",
       "    <tr>\n",
       "      <td>687</td>\n",
       "      <td>AB326Y569</td>\n",
       "      <td>150.0</td>\n",
       "      <td>Adam Buick</td>\n",
       "      <td>mini moon jar</td>\n",
       "      <td>porcelain mini moon jar. straw ash glaze.</td>\n",
       "      <td>10.0</td>\n",
       "      <td>9.0</td>\n",
       "      <td>8.5</td>\n",
       "      <td>Porcelain</td>\n",
       "      <td>Thrown</td>\n",
       "      <td>Wood</td>\n",
       "      <td>Glaze</td>\n",
       "    </tr>\n",
       "    <tr>\n",
       "      <td>688</td>\n",
       "      <td>AB326Y570</td>\n",
       "      <td>150.0</td>\n",
       "      <td>Adam Buick</td>\n",
       "      <td>mini moon jar</td>\n",
       "      <td>mini porcelain moon jar with waun llodi clay i...</td>\n",
       "      <td>10.0</td>\n",
       "      <td>9.0</td>\n",
       "      <td>8.5</td>\n",
       "      <td>Porcelain</td>\n",
       "      <td>Thrown</td>\n",
       "      <td>Wood</td>\n",
       "      <td>Glaze</td>\n",
       "    </tr>\n",
       "    <tr>\n",
       "      <td>689</td>\n",
       "      <td>AB326Y563</td>\n",
       "      <td>150.0</td>\n",
       "      <td>NaN</td>\n",
       "      <td>mini moon jar</td>\n",
       "      <td>mini porcelain moon jar with pale celadon glaze.</td>\n",
       "      <td>10.0</td>\n",
       "      <td>9.0</td>\n",
       "      <td>8.5</td>\n",
       "      <td>Porcelain</td>\n",
       "      <td>Thrown</td>\n",
       "      <td>Wood</td>\n",
       "      <td>Glaze</td>\n",
       "    </tr>\n",
       "  </tbody>\n",
       "</table>\n",
       "</div>"
      ],
      "text/plain": [
       "    productcode  price       maker           name  \\\n",
       "477   AB326Y559  150.0  Adam Buick  mini moon jar   \n",
       "478   AB326Y562  150.0  Adam Buick  mini moon jar   \n",
       "682   AB326Y553  150.0  Adam Buick  mini moon jar   \n",
       "683   AB326Y552  150.0  Adam Buick  mini moon jar   \n",
       "684   AB326Y555  150.0  Adam Buick  mini moon jar   \n",
       "685   AB326Y564  150.0  Adam Buick  mini moon jar   \n",
       "686   AB326Y556  150.0  Adam Buick  mini moon jar   \n",
       "687   AB326Y569  150.0  Adam Buick  mini moon jar   \n",
       "688   AB326Y570  150.0  Adam Buick  mini moon jar   \n",
       "689   AB326Y563  150.0         NaN  mini moon jar   \n",
       "\n",
       "                                           description  height  width  depth  \\\n",
       "477  mini porcelain moon jar with iron rich slate i...    10.0    9.0    8.5   \n",
       "478  mini porcelain moon jar with iron rich slate i...    10.0    9.0    8.5   \n",
       "682  mini porcelain moon jar with iron rich slate i...    10.0    9.0    8.5   \n",
       "683  mini coloured porcelain moon jar with patina f...    10.0    9.0    8.5   \n",
       "684  mini stoneware moon jar with china clay slip a...    10.0    9.0    8.5   \n",
       "685  mini porcelain moon jar with olive celadon glaze.    10.0    9.0    8.5   \n",
       "686  mini coloured stoneware moon jar with china cl...    11.0    9.0    8.5   \n",
       "687          porcelain mini moon jar. straw ash glaze.    10.0    9.0    8.5   \n",
       "688  mini porcelain moon jar with waun llodi clay i...    10.0    9.0    8.5   \n",
       "689   mini porcelain moon jar with pale celadon glaze.    10.0    9.0    8.5   \n",
       "\n",
       "     materials technique firing       decoration  \n",
       "477  Porcelain    Thrown   Wood            Glaze  \n",
       "478  Porcelain    Thrown   Wood            Glaze  \n",
       "682  Porcelain    Thrown   Wood            Glaze  \n",
       "683  Porcelain    Thrown   Wood            Glaze  \n",
       "684  Stoneware    Thrown   Wood            Glaze  \n",
       "685  Porcelain    Thrown   Wood            Glaze  \n",
       "686  Stoneware    Thrown   Wood  Slip decoration  \n",
       "687  Porcelain    Thrown   Wood            Glaze  \n",
       "688  Porcelain    Thrown   Wood            Glaze  \n",
       "689  Porcelain    Thrown   Wood            Glaze  "
      ]
     },
     "execution_count": 85,
     "metadata": {},
     "output_type": "execute_result"
    }
   ],
   "source": [
    "pots[pots.name.str.contains('moon jar', regex=True)]"
   ]
  },
  {
   "cell_type": "code",
   "execution_count": 88,
   "metadata": {},
   "outputs": [],
   "source": [
    "pots.loc[pots.maker.isna(), 'maker'] = \"Adam Buick\""
   ]
  },
  {
   "cell_type": "code",
   "execution_count": null,
   "metadata": {},
   "outputs": [],
   "source": []
  },
  {
   "cell_type": "code",
   "execution_count": 89,
   "metadata": {},
   "outputs": [
    {
     "name": "stdout",
     "output_type": "stream",
     "text": [
      "<class 'pandas.core.frame.DataFrame'>\n",
      "Int64Index: 1126 entries, 0 to 1127\n",
      "Data columns (total 12 columns):\n",
      "productcode    1126 non-null object\n",
      "price          1126 non-null float64\n",
      "maker          1126 non-null object\n",
      "name           1126 non-null object\n",
      "description    1126 non-null object\n",
      "height         1126 non-null float64\n",
      "width          1126 non-null float64\n",
      "depth          1126 non-null float64\n",
      "materials      1126 non-null object\n",
      "technique      1126 non-null object\n",
      "firing         1126 non-null object\n",
      "decoration     1126 non-null object\n",
      "dtypes: float64(4), object(8)\n",
      "memory usage: 154.4+ KB\n"
     ]
    }
   ],
   "source": [
    "pots.info()"
   ]
  },
  {
   "cell_type": "code",
   "execution_count": 92,
   "metadata": {},
   "outputs": [],
   "source": [
    "pots = pots.set_index('productcode')"
   ]
  },
  {
   "cell_type": "code",
   "execution_count": 94,
   "metadata": {},
   "outputs": [
    {
     "data": {
      "text/html": [
       "<div>\n",
       "<style scoped>\n",
       "    .dataframe tbody tr th:only-of-type {\n",
       "        vertical-align: middle;\n",
       "    }\n",
       "\n",
       "    .dataframe tbody tr th {\n",
       "        vertical-align: top;\n",
       "    }\n",
       "\n",
       "    .dataframe thead th {\n",
       "        text-align: right;\n",
       "    }\n",
       "</style>\n",
       "<table border=\"1\" class=\"dataframe\">\n",
       "  <thead>\n",
       "    <tr style=\"text-align: right;\">\n",
       "      <th></th>\n",
       "      <th>price</th>\n",
       "      <th>maker</th>\n",
       "      <th>name</th>\n",
       "      <th>description</th>\n",
       "      <th>height</th>\n",
       "      <th>width</th>\n",
       "      <th>depth</th>\n",
       "      <th>materials</th>\n",
       "      <th>technique</th>\n",
       "      <th>firing</th>\n",
       "      <th>decoration</th>\n",
       "    </tr>\n",
       "    <tr>\n",
       "      <th>productcode</th>\n",
       "      <th></th>\n",
       "      <th></th>\n",
       "      <th></th>\n",
       "      <th></th>\n",
       "      <th></th>\n",
       "      <th></th>\n",
       "      <th></th>\n",
       "      <th></th>\n",
       "      <th></th>\n",
       "      <th></th>\n",
       "      <th></th>\n",
       "    </tr>\n",
       "  </thead>\n",
       "  <tbody>\n",
       "    <tr>\n",
       "      <td>AM470Y165</td>\n",
       "      <td>47.0</td>\n",
       "      <td>Andy Mason</td>\n",
       "      <td>ovalled bowl cream satin motif</td>\n",
       "      <td>this stoneware bowl is wheel-thrown with a cre...</td>\n",
       "      <td>8.0</td>\n",
       "      <td>25.5</td>\n",
       "      <td>22.0</td>\n",
       "      <td>Stoneware</td>\n",
       "      <td>Thrown</td>\n",
       "      <td>Electric</td>\n",
       "      <td>Glaze</td>\n",
       "    </tr>\n",
       "    <tr>\n",
       "      <td>AM470Y164</td>\n",
       "      <td>47.0</td>\n",
       "      <td>Andy Mason</td>\n",
       "      <td>ovalled bowl cream satin motif</td>\n",
       "      <td>this stoneware bowl is wheel-thrown with a cre...</td>\n",
       "      <td>8.0</td>\n",
       "      <td>25.0</td>\n",
       "      <td>22.0</td>\n",
       "      <td>Stoneware</td>\n",
       "      <td>Thrown</td>\n",
       "      <td>Electric</td>\n",
       "      <td>Glaze</td>\n",
       "    </tr>\n",
       "    <tr>\n",
       "      <td>AM470Y163</td>\n",
       "      <td>38.0</td>\n",
       "      <td>Andy Mason</td>\n",
       "      <td>dinner plate cream satin plain</td>\n",
       "      <td>this stoneware plate is wheel-thrown with a cr...</td>\n",
       "      <td>3.0</td>\n",
       "      <td>25.0</td>\n",
       "      <td>15.3</td>\n",
       "      <td>Stoneware</td>\n",
       "      <td>Thrown</td>\n",
       "      <td>Electric</td>\n",
       "      <td>Glaze</td>\n",
       "    </tr>\n",
       "  </tbody>\n",
       "</table>\n",
       "</div>"
      ],
      "text/plain": [
       "             price       maker                            name  \\\n",
       "productcode                                                      \n",
       "AM470Y165     47.0  Andy Mason  ovalled bowl cream satin motif   \n",
       "AM470Y164     47.0  Andy Mason  ovalled bowl cream satin motif   \n",
       "AM470Y163     38.0  Andy Mason  dinner plate cream satin plain   \n",
       "\n",
       "                                                   description  height  width  \\\n",
       "productcode                                                                     \n",
       "AM470Y165    this stoneware bowl is wheel-thrown with a cre...     8.0   25.5   \n",
       "AM470Y164    this stoneware bowl is wheel-thrown with a cre...     8.0   25.0   \n",
       "AM470Y163    this stoneware plate is wheel-thrown with a cr...     3.0   25.0   \n",
       "\n",
       "             depth  materials technique    firing decoration  \n",
       "productcode                                                   \n",
       "AM470Y165     22.0  Stoneware    Thrown  Electric      Glaze  \n",
       "AM470Y164     22.0  Stoneware    Thrown  Electric      Glaze  \n",
       "AM470Y163     15.3  Stoneware    Thrown  Electric      Glaze  "
      ]
     },
     "execution_count": 94,
     "metadata": {},
     "output_type": "execute_result"
    }
   ],
   "source": [
    "pots.head(3)"
   ]
  },
  {
   "cell_type": "code",
   "execution_count": 95,
   "metadata": {},
   "outputs": [],
   "source": [
    "pots.to_csv(\"Pots_clean.csv\")"
   ]
  }
 ],
 "metadata": {
  "kernelspec": {
   "display_name": "Python 3",
   "language": "python",
   "name": "python3"
  },
  "language_info": {
   "codemirror_mode": {
    "name": "ipython",
    "version": 3
   },
   "file_extension": ".py",
   "mimetype": "text/x-python",
   "name": "python",
   "nbconvert_exporter": "python",
   "pygments_lexer": "ipython3",
   "version": "3.8.5"
  }
 },
 "nbformat": 4,
 "nbformat_minor": 2
}
