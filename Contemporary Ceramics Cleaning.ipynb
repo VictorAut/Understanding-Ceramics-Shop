{
 "cells": [
  {
   "cell_type": "code",
   "execution_count": 64,
   "metadata": {},
   "outputs": [],
   "source": [
    "import pandas as pd\n",
    "\n",
    "import seaborn as sns\n",
    "import matplotlib.pyplot as plt\n",
    "\n",
    "from sklearn.linear_model import LinearRegression"
   ]
  },
  {
   "cell_type": "code",
   "execution_count": 65,
   "metadata": {},
   "outputs": [],
   "source": [
    "pots = pd.read_csv(\"Pots.csv\")"
   ]
  },
  {
   "cell_type": "code",
   "execution_count": 66,
   "metadata": {},
   "outputs": [
    {
     "data": {
      "text/plain": [
       "Index(['ProductCode', 'Price', 'Maker', 'Name', 'Description', 'Height',\n",
       "       'Width', 'Depth', 'Materials', 'Technique', 'Signed',\n",
       "       'Firing Technique', 'Decoration'],\n",
       "      dtype='object')"
      ]
     },
     "execution_count": 66,
     "metadata": {},
     "output_type": "execute_result"
    }
   ],
   "source": [
    "pots.columns"
   ]
  },
  {
   "cell_type": "code",
   "execution_count": 67,
   "metadata": {},
   "outputs": [],
   "source": [
    "pots.columns = map(str.lower, pots.columns)\n",
    "pots = pots.rename(columns={'firing technique':'firing'})"
   ]
  },
  {
   "cell_type": "code",
   "execution_count": 68,
   "metadata": {},
   "outputs": [
    {
     "data": {
      "text/html": [
       "<div>\n",
       "<style scoped>\n",
       "    .dataframe tbody tr th:only-of-type {\n",
       "        vertical-align: middle;\n",
       "    }\n",
       "\n",
       "    .dataframe tbody tr th {\n",
       "        vertical-align: top;\n",
       "    }\n",
       "\n",
       "    .dataframe thead th {\n",
       "        text-align: right;\n",
       "    }\n",
       "</style>\n",
       "<table border=\"1\" class=\"dataframe\">\n",
       "  <thead>\n",
       "    <tr style=\"text-align: right;\">\n",
       "      <th></th>\n",
       "      <th>productcode</th>\n",
       "      <th>price</th>\n",
       "      <th>maker</th>\n",
       "      <th>name</th>\n",
       "      <th>description</th>\n",
       "      <th>height</th>\n",
       "      <th>width</th>\n",
       "      <th>depth</th>\n",
       "      <th>materials</th>\n",
       "      <th>technique</th>\n",
       "      <th>signed</th>\n",
       "      <th>firing</th>\n",
       "      <th>decoration</th>\n",
       "    </tr>\n",
       "  </thead>\n",
       "  <tbody>\n",
       "    <tr>\n",
       "      <th>0</th>\n",
       "      <td>LK256Y452</td>\n",
       "      <td>280.0</td>\n",
       "      <td>Lisa Katzenstein</td>\n",
       "      <td>gourd vase nasturtiums</td>\n",
       "      <td>This exuberant earthenware vase is slip cast a...</td>\n",
       "      <td>26.0</td>\n",
       "      <td>14.0</td>\n",
       "      <td>NaN</td>\n",
       "      <td>Earthenware</td>\n",
       "      <td>Slipcast</td>\n",
       "      <td>Signed</td>\n",
       "      <td>NaN</td>\n",
       "      <td>NaN</td>\n",
       "    </tr>\n",
       "    <tr>\n",
       "      <th>1</th>\n",
       "      <td>LK256Y456</td>\n",
       "      <td>380.0</td>\n",
       "      <td>Lisa Katzenstein</td>\n",
       "      <td>tall twist vase peapods</td>\n",
       "      <td>This exuberant earthenware vase is slip cast a...</td>\n",
       "      <td>41.0</td>\n",
       "      <td>15.5</td>\n",
       "      <td>7.5</td>\n",
       "      <td>Earthenware</td>\n",
       "      <td>Slipcast</td>\n",
       "      <td>Signed</td>\n",
       "      <td>NaN</td>\n",
       "      <td>NaN</td>\n",
       "    </tr>\n",
       "    <tr>\n",
       "      <th>2</th>\n",
       "      <td>LK256Y455</td>\n",
       "      <td>300.0</td>\n",
       "      <td>Lisa Katzenstein</td>\n",
       "      <td>spear vase succulents</td>\n",
       "      <td>This exuberant earthenware vase is slip cast a...</td>\n",
       "      <td>32.0</td>\n",
       "      <td>13.0</td>\n",
       "      <td>NaN</td>\n",
       "      <td>Earthenware</td>\n",
       "      <td>Slipcast</td>\n",
       "      <td>Signed</td>\n",
       "      <td>NaN</td>\n",
       "      <td>NaN</td>\n",
       "    </tr>\n",
       "    <tr>\n",
       "      <th>3</th>\n",
       "      <td>LK256Y454</td>\n",
       "      <td>300.0</td>\n",
       "      <td>Lisa Katzenstein</td>\n",
       "      <td>spear vase chillies</td>\n",
       "      <td>This exuberant earthenware vase is slip cast a...</td>\n",
       "      <td>32.0</td>\n",
       "      <td>13.0</td>\n",
       "      <td>NaN</td>\n",
       "      <td>Earthenware</td>\n",
       "      <td>Slipcast</td>\n",
       "      <td>Signed</td>\n",
       "      <td>NaN</td>\n",
       "      <td>NaN</td>\n",
       "    </tr>\n",
       "    <tr>\n",
       "      <th>4</th>\n",
       "      <td>LK256Y453</td>\n",
       "      <td>280.0</td>\n",
       "      <td>Lisa Katzenstein</td>\n",
       "      <td>gourd vase honesty</td>\n",
       "      <td>This exuberant earthenware vase is slip cast a...</td>\n",
       "      <td>26.0</td>\n",
       "      <td>14.0</td>\n",
       "      <td>NaN</td>\n",
       "      <td>Earthenware</td>\n",
       "      <td>Slipcast</td>\n",
       "      <td>Signed</td>\n",
       "      <td>NaN</td>\n",
       "      <td>NaN</td>\n",
       "    </tr>\n",
       "  </tbody>\n",
       "</table>\n",
       "</div>"
      ],
      "text/plain": [
       "  productcode  price             maker                     name  \\\n",
       "0   LK256Y452  280.0  Lisa Katzenstein   gourd vase nasturtiums   \n",
       "1   LK256Y456  380.0  Lisa Katzenstein  tall twist vase peapods   \n",
       "2   LK256Y455  300.0  Lisa Katzenstein    spear vase succulents   \n",
       "3   LK256Y454  300.0  Lisa Katzenstein      spear vase chillies   \n",
       "4   LK256Y453  280.0  Lisa Katzenstein       gourd vase honesty   \n",
       "\n",
       "                                         description  height  width  depth  \\\n",
       "0  This exuberant earthenware vase is slip cast a...    26.0   14.0    NaN   \n",
       "1  This exuberant earthenware vase is slip cast a...    41.0   15.5    7.5   \n",
       "2  This exuberant earthenware vase is slip cast a...    32.0   13.0    NaN   \n",
       "3  This exuberant earthenware vase is slip cast a...    32.0   13.0    NaN   \n",
       "4  This exuberant earthenware vase is slip cast a...    26.0   14.0    NaN   \n",
       "\n",
       "     materials technique  signed firing decoration  \n",
       "0  Earthenware  Slipcast  Signed    NaN        NaN  \n",
       "1  Earthenware  Slipcast  Signed    NaN        NaN  \n",
       "2  Earthenware  Slipcast  Signed    NaN        NaN  \n",
       "3  Earthenware  Slipcast  Signed    NaN        NaN  \n",
       "4  Earthenware  Slipcast  Signed    NaN        NaN  "
      ]
     },
     "execution_count": 68,
     "metadata": {},
     "output_type": "execute_result"
    }
   ],
   "source": [
    "pots.head()"
   ]
  },
  {
   "cell_type": "code",
   "execution_count": 69,
   "metadata": {},
   "outputs": [
    {
     "data": {
      "text/plain": [
       "(1201, 13)"
      ]
     },
     "execution_count": 69,
     "metadata": {},
     "output_type": "execute_result"
    }
   ],
   "source": [
    "pots.shape"
   ]
  },
  {
   "cell_type": "code",
   "execution_count": 70,
   "metadata": {},
   "outputs": [
    {
     "name": "stdout",
     "output_type": "stream",
     "text": [
      "<class 'pandas.core.frame.DataFrame'>\n",
      "RangeIndex: 1201 entries, 0 to 1200\n",
      "Data columns (total 13 columns):\n",
      " #   Column       Non-Null Count  Dtype  \n",
      "---  ------       --------------  -----  \n",
      " 0   productcode  1201 non-null   object \n",
      " 1   price        1201 non-null   float64\n",
      " 2   maker        1198 non-null   object \n",
      " 3   name         1201 non-null   object \n",
      " 4   description  1201 non-null   object \n",
      " 5   height       1196 non-null   float64\n",
      " 6   width        1197 non-null   float64\n",
      " 7   depth        585 non-null    float64\n",
      " 8   materials    1138 non-null   object \n",
      " 9   technique    1169 non-null   object \n",
      " 10  signed       1192 non-null   object \n",
      " 11  firing       468 non-null    object \n",
      " 12  decoration   277 non-null    object \n",
      "dtypes: float64(4), object(9)\n",
      "memory usage: 122.1+ KB\n"
     ]
    }
   ],
   "source": [
    "pots.info()"
   ]
  },
  {
   "cell_type": "markdown",
   "metadata": {},
   "source": [
    "## Clean 'description' column"
   ]
  },
  {
   "cell_type": "code",
   "execution_count": 71,
   "metadata": {},
   "outputs": [],
   "source": [
    "pots.description = pots.description.str.lower()"
   ]
  },
  {
   "cell_type": "code",
   "execution_count": 72,
   "metadata": {},
   "outputs": [
    {
     "data": {
      "text/html": [
       "<div>\n",
       "<style scoped>\n",
       "    .dataframe tbody tr th:only-of-type {\n",
       "        vertical-align: middle;\n",
       "    }\n",
       "\n",
       "    .dataframe tbody tr th {\n",
       "        vertical-align: top;\n",
       "    }\n",
       "\n",
       "    .dataframe thead th {\n",
       "        text-align: right;\n",
       "    }\n",
       "</style>\n",
       "<table border=\"1\" class=\"dataframe\">\n",
       "  <thead>\n",
       "    <tr style=\"text-align: right;\">\n",
       "      <th></th>\n",
       "      <th>productcode</th>\n",
       "      <th>price</th>\n",
       "      <th>maker</th>\n",
       "      <th>name</th>\n",
       "      <th>description</th>\n",
       "      <th>height</th>\n",
       "      <th>width</th>\n",
       "      <th>depth</th>\n",
       "      <th>materials</th>\n",
       "      <th>technique</th>\n",
       "      <th>signed</th>\n",
       "      <th>firing</th>\n",
       "      <th>decoration</th>\n",
       "    </tr>\n",
       "  </thead>\n",
       "  <tbody>\n",
       "    <tr>\n",
       "      <th>0</th>\n",
       "      <td>LK256Y452</td>\n",
       "      <td>280.0</td>\n",
       "      <td>Lisa Katzenstein</td>\n",
       "      <td>gourd vase nasturtiums</td>\n",
       "      <td>this exuberant earthenware vase is slip cast a...</td>\n",
       "      <td>26.0</td>\n",
       "      <td>14.0</td>\n",
       "      <td>NaN</td>\n",
       "      <td>Earthenware</td>\n",
       "      <td>Slipcast</td>\n",
       "      <td>Signed</td>\n",
       "      <td>NaN</td>\n",
       "      <td>NaN</td>\n",
       "    </tr>\n",
       "  </tbody>\n",
       "</table>\n",
       "</div>"
      ],
      "text/plain": [
       "  productcode  price             maker                    name  \\\n",
       "0   LK256Y452  280.0  Lisa Katzenstein  gourd vase nasturtiums   \n",
       "\n",
       "                                         description  height  width  depth  \\\n",
       "0  this exuberant earthenware vase is slip cast a...    26.0   14.0    NaN   \n",
       "\n",
       "     materials technique  signed firing decoration  \n",
       "0  Earthenware  Slipcast  Signed    NaN        NaN  "
      ]
     },
     "execution_count": 72,
     "metadata": {},
     "output_type": "execute_result"
    }
   ],
   "source": [
    "pots.head(1)"
   ]
  },
  {
   "cell_type": "markdown",
   "metadata": {},
   "source": [
    "## Clean 'Signed' column"
   ]
  },
  {
   "cell_type": "code",
   "execution_count": 73,
   "metadata": {},
   "outputs": [
    {
     "data": {
      "text/plain": [
       "9"
      ]
     },
     "execution_count": 73,
     "metadata": {},
     "output_type": "execute_result"
    }
   ],
   "source": [
    "pots[\"signed\"].isna().sum()"
   ]
  },
  {
   "cell_type": "markdown",
   "metadata": {},
   "source": [
    "Only a small number of pots do not have the signed feature as completed. In my experience, any pot is signed, and I believe that this is used on the website simply to fill space — so we can go ahead and drop that completely"
   ]
  },
  {
   "cell_type": "code",
   "execution_count": 74,
   "metadata": {},
   "outputs": [
    {
     "name": "stdout",
     "output_type": "stream",
     "text": [
      "(1201, 12)\n"
     ]
    },
    {
     "data": {
      "text/html": [
       "<div>\n",
       "<style scoped>\n",
       "    .dataframe tbody tr th:only-of-type {\n",
       "        vertical-align: middle;\n",
       "    }\n",
       "\n",
       "    .dataframe tbody tr th {\n",
       "        vertical-align: top;\n",
       "    }\n",
       "\n",
       "    .dataframe thead th {\n",
       "        text-align: right;\n",
       "    }\n",
       "</style>\n",
       "<table border=\"1\" class=\"dataframe\">\n",
       "  <thead>\n",
       "    <tr style=\"text-align: right;\">\n",
       "      <th></th>\n",
       "      <th>productcode</th>\n",
       "      <th>price</th>\n",
       "      <th>maker</th>\n",
       "      <th>name</th>\n",
       "      <th>description</th>\n",
       "      <th>height</th>\n",
       "      <th>width</th>\n",
       "      <th>depth</th>\n",
       "      <th>materials</th>\n",
       "      <th>technique</th>\n",
       "      <th>firing</th>\n",
       "      <th>decoration</th>\n",
       "    </tr>\n",
       "  </thead>\n",
       "  <tbody>\n",
       "    <tr>\n",
       "      <th>0</th>\n",
       "      <td>LK256Y452</td>\n",
       "      <td>280.0</td>\n",
       "      <td>Lisa Katzenstein</td>\n",
       "      <td>gourd vase nasturtiums</td>\n",
       "      <td>this exuberant earthenware vase is slip cast a...</td>\n",
       "      <td>26.0</td>\n",
       "      <td>14.0</td>\n",
       "      <td>NaN</td>\n",
       "      <td>Earthenware</td>\n",
       "      <td>Slipcast</td>\n",
       "      <td>NaN</td>\n",
       "      <td>NaN</td>\n",
       "    </tr>\n",
       "    <tr>\n",
       "      <th>1</th>\n",
       "      <td>LK256Y456</td>\n",
       "      <td>380.0</td>\n",
       "      <td>Lisa Katzenstein</td>\n",
       "      <td>tall twist vase peapods</td>\n",
       "      <td>this exuberant earthenware vase is slip cast a...</td>\n",
       "      <td>41.0</td>\n",
       "      <td>15.5</td>\n",
       "      <td>7.5</td>\n",
       "      <td>Earthenware</td>\n",
       "      <td>Slipcast</td>\n",
       "      <td>NaN</td>\n",
       "      <td>NaN</td>\n",
       "    </tr>\n",
       "    <tr>\n",
       "      <th>2</th>\n",
       "      <td>LK256Y455</td>\n",
       "      <td>300.0</td>\n",
       "      <td>Lisa Katzenstein</td>\n",
       "      <td>spear vase succulents</td>\n",
       "      <td>this exuberant earthenware vase is slip cast a...</td>\n",
       "      <td>32.0</td>\n",
       "      <td>13.0</td>\n",
       "      <td>NaN</td>\n",
       "      <td>Earthenware</td>\n",
       "      <td>Slipcast</td>\n",
       "      <td>NaN</td>\n",
       "      <td>NaN</td>\n",
       "    </tr>\n",
       "    <tr>\n",
       "      <th>3</th>\n",
       "      <td>LK256Y454</td>\n",
       "      <td>300.0</td>\n",
       "      <td>Lisa Katzenstein</td>\n",
       "      <td>spear vase chillies</td>\n",
       "      <td>this exuberant earthenware vase is slip cast a...</td>\n",
       "      <td>32.0</td>\n",
       "      <td>13.0</td>\n",
       "      <td>NaN</td>\n",
       "      <td>Earthenware</td>\n",
       "      <td>Slipcast</td>\n",
       "      <td>NaN</td>\n",
       "      <td>NaN</td>\n",
       "    </tr>\n",
       "    <tr>\n",
       "      <th>4</th>\n",
       "      <td>LK256Y453</td>\n",
       "      <td>280.0</td>\n",
       "      <td>Lisa Katzenstein</td>\n",
       "      <td>gourd vase honesty</td>\n",
       "      <td>this exuberant earthenware vase is slip cast a...</td>\n",
       "      <td>26.0</td>\n",
       "      <td>14.0</td>\n",
       "      <td>NaN</td>\n",
       "      <td>Earthenware</td>\n",
       "      <td>Slipcast</td>\n",
       "      <td>NaN</td>\n",
       "      <td>NaN</td>\n",
       "    </tr>\n",
       "  </tbody>\n",
       "</table>\n",
       "</div>"
      ],
      "text/plain": [
       "  productcode  price             maker                     name  \\\n",
       "0   LK256Y452  280.0  Lisa Katzenstein   gourd vase nasturtiums   \n",
       "1   LK256Y456  380.0  Lisa Katzenstein  tall twist vase peapods   \n",
       "2   LK256Y455  300.0  Lisa Katzenstein    spear vase succulents   \n",
       "3   LK256Y454  300.0  Lisa Katzenstein      spear vase chillies   \n",
       "4   LK256Y453  280.0  Lisa Katzenstein       gourd vase honesty   \n",
       "\n",
       "                                         description  height  width  depth  \\\n",
       "0  this exuberant earthenware vase is slip cast a...    26.0   14.0    NaN   \n",
       "1  this exuberant earthenware vase is slip cast a...    41.0   15.5    7.5   \n",
       "2  this exuberant earthenware vase is slip cast a...    32.0   13.0    NaN   \n",
       "3  this exuberant earthenware vase is slip cast a...    32.0   13.0    NaN   \n",
       "4  this exuberant earthenware vase is slip cast a...    26.0   14.0    NaN   \n",
       "\n",
       "     materials technique firing decoration  \n",
       "0  Earthenware  Slipcast    NaN        NaN  \n",
       "1  Earthenware  Slipcast    NaN        NaN  \n",
       "2  Earthenware  Slipcast    NaN        NaN  \n",
       "3  Earthenware  Slipcast    NaN        NaN  \n",
       "4  Earthenware  Slipcast    NaN        NaN  "
      ]
     },
     "execution_count": 74,
     "metadata": {},
     "output_type": "execute_result"
    }
   ],
   "source": [
    "pots.drop(\"signed\", axis = 1, inplace = True)\n",
    "print(pots.shape)\n",
    "pots.head()"
   ]
  },
  {
   "cell_type": "markdown",
   "metadata": {},
   "source": [
    "## Clean 'Materials' column"
   ]
  },
  {
   "cell_type": "code",
   "execution_count": 75,
   "metadata": {},
   "outputs": [
    {
     "data": {
      "text/plain": [
       "materials\n",
       "Porcelain, Stoneware       3\n",
       "Porcelain, Bone China      6\n",
       "Bone China                25\n",
       "Porcelain                327\n",
       "Stoneware                376\n",
       "Earthenware              401\n",
       "dtype: int64"
      ]
     },
     "execution_count": 75,
     "metadata": {},
     "output_type": "execute_result"
    }
   ],
   "source": [
    "pots.groupby(\"materials\").size().sort_values()"
   ]
  },
  {
   "cell_type": "code",
   "execution_count": 80,
   "metadata": {},
   "outputs": [
    {
     "data": {
      "text/plain": [
       "0"
      ]
     },
     "execution_count": 80,
     "metadata": {},
     "output_type": "execute_result"
    }
   ],
   "source": [
    "pots.materials.isna().sum()"
   ]
  },
  {
   "cell_type": "code",
   "execution_count": 77,
   "metadata": {},
   "outputs": [],
   "source": [
    "pots.loc[(pots[\"materials\"] == 'Porcelain, Stoneware') |\n",
    "         (pots[\"materials\"] == 'Porcelain, Bone China'), 'materials'] = 'Porcelain'"
   ]
  },
  {
   "cell_type": "code",
   "execution_count": 78,
   "metadata": {},
   "outputs": [],
   "source": [
    "pots.loc[(pots.description=='John Pollex') & (pots.materials.isna()), 'materials'] = 'Earthenware'"
   ]
  },
  {
   "cell_type": "code",
   "execution_count": 79,
   "metadata": {},
   "outputs": [],
   "source": [
    "pots.loc[pots.materials.isna(), 'materials'] = 'Stoneware'"
   ]
  },
  {
   "cell_type": "markdown",
   "metadata": {},
   "source": [
    "## Clean 'Technique' column"
   ]
  },
  {
   "cell_type": "code",
   "execution_count": 81,
   "metadata": {},
   "outputs": [
    {
     "data": {
      "text/plain": [
       "technique\n",
       "Hand Built, Press Mould                1\n",
       "Slab Built, Thrown                     1\n",
       "Thrown, Press Mould                    1\n",
       "Hand Built, Saggar Fired               2\n",
       "Hand Built, Coil Built                 3\n",
       "Hand Built, Slab Built, Thrown         4\n",
       "Hand Built, Slab Built                 8\n",
       "Hand Built, Slipcast, Press Mould     12\n",
       "Thrown, Hand built                    12\n",
       "Hand built                            19\n",
       "Hand Built, Thrown                    51\n",
       "Slab Built                            59\n",
       "Slipcast                              80\n",
       "Hand Built                           269\n",
       "Thrown                               647\n",
       "dtype: int64"
      ]
     },
     "execution_count": 81,
     "metadata": {},
     "output_type": "execute_result"
    }
   ],
   "source": [
    "pots.groupby(\"technique\").size().sort_values()"
   ]
  },
  {
   "cell_type": "code",
   "execution_count": 82,
   "metadata": {},
   "outputs": [],
   "source": [
    "pots.loc[pots[\"technique\"] != 'Thrown', 'technique'] = 'Hand built'"
   ]
  },
  {
   "cell_type": "code",
   "execution_count": 83,
   "metadata": {},
   "outputs": [
    {
     "data": {
      "text/plain": [
       "technique\n",
       "Hand built    554\n",
       "Thrown        647\n",
       "dtype: int64"
      ]
     },
     "execution_count": 83,
     "metadata": {},
     "output_type": "execute_result"
    }
   ],
   "source": [
    "pots.groupby(\"technique\").size().sort_values()"
   ]
  },
  {
   "cell_type": "code",
   "execution_count": 84,
   "metadata": {},
   "outputs": [
    {
     "data": {
      "text/plain": [
       "0"
      ]
     },
     "execution_count": 84,
     "metadata": {},
     "output_type": "execute_result"
    }
   ],
   "source": [
    "pots.technique.isna().sum()"
   ]
  },
  {
   "cell_type": "markdown",
   "metadata": {},
   "source": [
    "## Clean 'firing'"
   ]
  },
  {
   "cell_type": "code",
   "execution_count": 85,
   "metadata": {},
   "outputs": [
    {
     "data": {
      "text/plain": [
       "firing\n",
       "Wood, Oil                         1\n",
       "smoke-fired,                      1\n",
       "Smoked Fired                      4\n",
       "Wood, Salt Glaze                  7\n",
       "Wood, Soda Fired                  7\n",
       "Soda Fired                        8\n",
       "Wood, Salt Glaze, Soda Fired      9\n",
       "Salt Glaze                       16\n",
       "Raku                             17\n",
       "Smoke Fired                      17\n",
       "smoke fired                      17\n",
       "Gas                              35\n",
       "Wood                             51\n",
       "Electric                        278\n",
       "dtype: int64"
      ]
     },
     "execution_count": 85,
     "metadata": {},
     "output_type": "execute_result"
    }
   ],
   "source": [
    "pots.groupby(\"firing\").size().sort_values()"
   ]
  },
  {
   "cell_type": "code",
   "execution_count": 86,
   "metadata": {},
   "outputs": [
    {
     "data": {
      "text/plain": [
       "733"
      ]
     },
     "execution_count": 86,
     "metadata": {},
     "output_type": "execute_result"
    }
   ],
   "source": [
    "pots.firing.isna().sum()"
   ]
  },
  {
   "cell_type": "markdown",
   "metadata": {},
   "source": [
    "Let's do some investigating"
   ]
  },
  {
   "cell_type": "code",
   "execution_count": 87,
   "metadata": {},
   "outputs": [],
   "source": [
    "pots.loc[(pots[\"firing\"] == 'Smoke Fired') |\n",
    "         (pots[\"firing\"] == 'Smoked Fired') | \n",
    "         (pots[\"firing\"] == 'smoke-fired, ') | \n",
    "         (pots[\"firing\"] == 'smoke fired'), 'firing'] = 'Smoke fired'\n",
    "\n",
    "pots.loc[(pots[\"firing\"] == 'Wood, Soda Fired') |\n",
    "         (pots[\"firing\"] == 'Wood, Salt Glaze') | \n",
    "         (pots[\"firing\"] == 'Wood, Salt Glaze, Soda Fired') | \n",
    "         (pots[\"firing\"] == 'Wood, Oil') | \n",
    "         (pots[\"firing\"] == 'Smoke fired') | \n",
    "         (pots[\"firing\"] == 'Salt Glaze') | \n",
    "         (pots[\"firing\"] == 'Soda Fired') ,'firing'] = 'Wood'"
   ]
  },
  {
   "cell_type": "code",
   "execution_count": 88,
   "metadata": {},
   "outputs": [
    {
     "data": {
      "text/plain": [
       "firing\n",
       "Raku         17\n",
       "Gas          35\n",
       "Wood        138\n",
       "Electric    278\n",
       "dtype: int64"
      ]
     },
     "execution_count": 88,
     "metadata": {},
     "output_type": "execute_result"
    }
   ],
   "source": [
    "pots.groupby(\"firing\").size().sort_values()"
   ]
  },
  {
   "cell_type": "code",
   "execution_count": 89,
   "metadata": {},
   "outputs": [],
   "source": [
    "pots.firing = pots.firing.fillna('Electric')"
   ]
  },
  {
   "cell_type": "code",
   "execution_count": 90,
   "metadata": {},
   "outputs": [
    {
     "data": {
      "text/plain": [
       "0"
      ]
     },
     "execution_count": 90,
     "metadata": {},
     "output_type": "execute_result"
    }
   ],
   "source": [
    "pots.firing.isna().sum()"
   ]
  },
  {
   "cell_type": "markdown",
   "metadata": {},
   "source": [
    "## Clean 'decoration' column"
   ]
  },
  {
   "cell_type": "code",
   "execution_count": 91,
   "metadata": {},
   "outputs": [
    {
     "data": {
      "text/plain": [
       "decoration\n",
       "Terra Sigillata                       1\n",
       "Sgraffito                             2\n",
       "Volcanic Glaze                        3\n",
       "Slip Decoration, Terra Sigillata      4\n",
       "Carved                               10\n",
       "Slip Decoration, Sgraffito           13\n",
       "Wax Resist                           15\n",
       "Slip decoration                      39\n",
       "Slip Decoration                     190\n",
       "dtype: int64"
      ]
     },
     "execution_count": 91,
     "metadata": {},
     "output_type": "execute_result"
    }
   ],
   "source": [
    "pots.groupby(\"decoration\").size().sort_values()"
   ]
  },
  {
   "cell_type": "code",
   "execution_count": 99,
   "metadata": {},
   "outputs": [
    {
     "data": {
      "text/plain": [
       "0"
      ]
     },
     "execution_count": 99,
     "metadata": {},
     "output_type": "execute_result"
    }
   ],
   "source": [
    "pots.decoration.isna().sum()"
   ]
  },
  {
   "cell_type": "code",
   "execution_count": 93,
   "metadata": {},
   "outputs": [],
   "source": [
    "pots.loc[(pots['description'].str.contains('glaze', regex=True)) & (pots['decoration'].isna()), 'decoration'] = 'Glaze'\n",
    "pots.loc[(pots['name'].str.contains('glaze', regex=True)) & (pots['decoration'].isna()), 'decoration'] = 'Glaze'\n",
    "\n",
    "pots.loc[(pots['description'].str.contains('slip', regex=True)) & (pots['decoration'].isna()), 'decoration'] = 'Slip Decoration'\n",
    "pots.loc[(pots['description'].str.contains('engobe', regex=True)) & (pots['decoration'].isna()), 'decoration'] = 'Slip Decoration'\n",
    "\n",
    "pots.loc[(pots['description'].str.contains('lustre', regex=True)) & (pots['decoration'].isna()), 'decoration'] = 'Lustre'"
   ]
  },
  {
   "cell_type": "code",
   "execution_count": 94,
   "metadata": {},
   "outputs": [],
   "source": [
    "pots.loc[(pots[\"decoration\"] == 'Wax Resist') |\n",
    "         (pots[\"decoration\"] == 'Volcanic Glaze') |\n",
    "         (pots[\"decoration\"] == 'Carved'),'decoration'] = 'Glaze'\n",
    "\n",
    "pots.loc[(pots[\"decoration\"] == 'Slip Decoration, Terra Sigillata'),'decoration'] = 'Terra Sigillata'\n",
    "\n",
    "pots.loc[(pots[\"decoration\"] == 'Slip Decoration, Sgraffito'),'decoration'] = 'Sgraffito'\n",
    "\n",
    "pots.loc[(pots[\"decoration\"] == 'Slip Decoration'),'decoration'] = 'Slip decoration'"
   ]
  },
  {
   "cell_type": "code",
   "execution_count": 95,
   "metadata": {},
   "outputs": [
    {
     "data": {
      "text/plain": [
       "Series([], Name: decoration, dtype: object)"
      ]
     },
     "execution_count": 95,
     "metadata": {},
     "output_type": "execute_result"
    }
   ],
   "source": [
    "pots.loc[(pots['name'].str.contains('plain', regex=True)) & (pots['decoration'].isna()), 'decoration']"
   ]
  },
  {
   "cell_type": "code",
   "execution_count": 96,
   "metadata": {},
   "outputs": [
    {
     "data": {
      "text/plain": [
       "productcode                                            SW208Y241\n",
       "price                                                        488\n",
       "maker                                               Sarah Walton\n",
       "name                                            bostal bottom II\n",
       "description    this brickclay sculpture is primarily inspired...\n",
       "height                                                        15\n",
       "width                                                       23.5\n",
       "depth                                                       21.5\n",
       "materials                                              Stoneware\n",
       "technique                                             Hand built\n",
       "firing                                                  Electric\n",
       "decoration                                                   NaN\n",
       "Name: 55, dtype: object"
      ]
     },
     "execution_count": 96,
     "metadata": {},
     "output_type": "execute_result"
    }
   ],
   "source": [
    "pots.iloc[55]"
   ]
  },
  {
   "cell_type": "code",
   "execution_count": 97,
   "metadata": {},
   "outputs": [
    {
     "data": {
      "text/plain": [
       "decoration\n",
       "Terra Sigillata      5\n",
       "Sgraffito           15\n",
       "Lustre              18\n",
       "Slip decoration    380\n",
       "Glaze              466\n",
       "dtype: int64"
      ]
     },
     "execution_count": 97,
     "metadata": {},
     "output_type": "execute_result"
    }
   ],
   "source": [
    "pots.groupby(\"decoration\").size().sort_values()"
   ]
  },
  {
   "cell_type": "code",
   "execution_count": 98,
   "metadata": {},
   "outputs": [],
   "source": [
    "pots.loc[pots.decoration.isna(), 'decoration'] = 'Glaze'"
   ]
  },
  {
   "cell_type": "markdown",
   "metadata": {},
   "source": [
    "## Clean 'height','width' dimension"
   ]
  },
  {
   "cell_type": "code",
   "execution_count": 100,
   "metadata": {},
   "outputs": [
    {
     "data": {
      "text/plain": [
       "5"
      ]
     },
     "execution_count": 100,
     "metadata": {},
     "output_type": "execute_result"
    }
   ],
   "source": [
    "pots.height.isna().sum()"
   ]
  },
  {
   "cell_type": "code",
   "execution_count": 101,
   "metadata": {},
   "outputs": [
    {
     "data": {
      "text/plain": [
       "4"
      ]
     },
     "execution_count": 101,
     "metadata": {},
     "output_type": "execute_result"
    }
   ],
   "source": [
    "pots.width.isna().sum()"
   ]
  },
  {
   "cell_type": "code",
   "execution_count": 102,
   "metadata": {},
   "outputs": [
    {
     "data": {
      "text/html": [
       "<div>\n",
       "<style scoped>\n",
       "    .dataframe tbody tr th:only-of-type {\n",
       "        vertical-align: middle;\n",
       "    }\n",
       "\n",
       "    .dataframe tbody tr th {\n",
       "        vertical-align: top;\n",
       "    }\n",
       "\n",
       "    .dataframe thead th {\n",
       "        text-align: right;\n",
       "    }\n",
       "</style>\n",
       "<table border=\"1\" class=\"dataframe\">\n",
       "  <thead>\n",
       "    <tr style=\"text-align: right;\">\n",
       "      <th></th>\n",
       "      <th>productcode</th>\n",
       "      <th>price</th>\n",
       "      <th>maker</th>\n",
       "      <th>name</th>\n",
       "      <th>description</th>\n",
       "      <th>height</th>\n",
       "      <th>width</th>\n",
       "      <th>depth</th>\n",
       "      <th>materials</th>\n",
       "      <th>technique</th>\n",
       "      <th>firing</th>\n",
       "      <th>decoration</th>\n",
       "    </tr>\n",
       "  </thead>\n",
       "  <tbody>\n",
       "    <tr>\n",
       "      <th>334</th>\n",
       "      <td>7Y405</td>\n",
       "      <td>35.0</td>\n",
       "      <td>Daphne Carnegy</td>\n",
       "      <td>small mug lines</td>\n",
       "      <td>this earthenware mug is wheel-thrown and decor...</td>\n",
       "      <td>NaN</td>\n",
       "      <td>9.5</td>\n",
       "      <td>7.0</td>\n",
       "      <td>Earthenware</td>\n",
       "      <td>Thrown</td>\n",
       "      <td>Electric</td>\n",
       "      <td>Glaze</td>\n",
       "    </tr>\n",
       "    <tr>\n",
       "      <th>1070</th>\n",
       "      <td>GiftCard</td>\n",
       "      <td>5.0</td>\n",
       "      <td>NaN</td>\n",
       "      <td>Gift Card</td>\n",
       "      <td>the perfect present for any ceramic enthusiast...</td>\n",
       "      <td>NaN</td>\n",
       "      <td>NaN</td>\n",
       "      <td>NaN</td>\n",
       "      <td>Stoneware</td>\n",
       "      <td>Hand built</td>\n",
       "      <td>Electric</td>\n",
       "      <td>Glaze</td>\n",
       "    </tr>\n",
       "    <tr>\n",
       "      <th>1071</th>\n",
       "      <td>GiftCard</td>\n",
       "      <td>5.0</td>\n",
       "      <td>NaN</td>\n",
       "      <td>Gift Card</td>\n",
       "      <td>the perfect present for any ceramic enthusiast...</td>\n",
       "      <td>NaN</td>\n",
       "      <td>NaN</td>\n",
       "      <td>NaN</td>\n",
       "      <td>Stoneware</td>\n",
       "      <td>Hand built</td>\n",
       "      <td>Electric</td>\n",
       "      <td>Glaze</td>\n",
       "    </tr>\n",
       "    <tr>\n",
       "      <th>1150</th>\n",
       "      <td>JCJ408X147</td>\n",
       "      <td>172.0</td>\n",
       "      <td>Jonathan Chiswell-Jones</td>\n",
       "      <td>Floral windows small bowl</td>\n",
       "      <td>this wheel-thrown porcelain bowl has been orna...</td>\n",
       "      <td>NaN</td>\n",
       "      <td>21.5</td>\n",
       "      <td>NaN</td>\n",
       "      <td>Porcelain</td>\n",
       "      <td>Thrown</td>\n",
       "      <td>Gas</td>\n",
       "      <td>Lustre</td>\n",
       "    </tr>\n",
       "    <tr>\n",
       "      <th>1153</th>\n",
       "      <td>JCJ408X148</td>\n",
       "      <td>172.0</td>\n",
       "      <td>Jonathan Chiswell-Jones</td>\n",
       "      <td>Tulips small bowl</td>\n",
       "      <td>this wheel-thrown porcelain bowl has been orna...</td>\n",
       "      <td>NaN</td>\n",
       "      <td>21.5</td>\n",
       "      <td>NaN</td>\n",
       "      <td>Porcelain</td>\n",
       "      <td>Thrown</td>\n",
       "      <td>Gas</td>\n",
       "      <td>Lustre</td>\n",
       "    </tr>\n",
       "  </tbody>\n",
       "</table>\n",
       "</div>"
      ],
      "text/plain": [
       "     productcode  price                    maker                       name  \\\n",
       "334        7Y405   35.0           Daphne Carnegy            small mug lines   \n",
       "1070    GiftCard    5.0                      NaN                  Gift Card   \n",
       "1071    GiftCard    5.0                      NaN                  Gift Card   \n",
       "1150  JCJ408X147  172.0  Jonathan Chiswell-Jones  Floral windows small bowl   \n",
       "1153  JCJ408X148  172.0  Jonathan Chiswell-Jones          Tulips small bowl   \n",
       "\n",
       "                                            description  height  width  depth  \\\n",
       "334   this earthenware mug is wheel-thrown and decor...     NaN    9.5    7.0   \n",
       "1070  the perfect present for any ceramic enthusiast...     NaN    NaN    NaN   \n",
       "1071  the perfect present for any ceramic enthusiast...     NaN    NaN    NaN   \n",
       "1150  this wheel-thrown porcelain bowl has been orna...     NaN   21.5    NaN   \n",
       "1153  this wheel-thrown porcelain bowl has been orna...     NaN   21.5    NaN   \n",
       "\n",
       "        materials   technique    firing decoration  \n",
       "334   Earthenware      Thrown  Electric      Glaze  \n",
       "1070    Stoneware  Hand built  Electric      Glaze  \n",
       "1071    Stoneware  Hand built  Electric      Glaze  \n",
       "1150    Porcelain      Thrown       Gas     Lustre  \n",
       "1153    Porcelain      Thrown       Gas     Lustre  "
      ]
     },
     "execution_count": 102,
     "metadata": {},
     "output_type": "execute_result"
    }
   ],
   "source": [
    "pots[pots.height.isna()]"
   ]
  },
  {
   "cell_type": "code",
   "execution_count": 106,
   "metadata": {},
   "outputs": [
    {
     "data": {
      "text/plain": [
       "(1199, 12)"
      ]
     },
     "execution_count": 106,
     "metadata": {},
     "output_type": "execute_result"
    }
   ],
   "source": [
    "pots = pots.loc[pots.productcode != 'GiftCard']\n",
    "pots.shape"
   ]
  },
  {
   "cell_type": "code",
   "execution_count": 107,
   "metadata": {},
   "outputs": [
    {
     "data": {
      "text/plain": [
       "<AxesSubplot:xlabel='width', ylabel='height'>"
      ]
     },
     "execution_count": 107,
     "metadata": {},
     "output_type": "execute_result"
    },
    {
     "data": {
      "image/png": "[encoded data removed]",
      "text/plain": [
       "<Figure size 432x288 with 1 Axes>"
      ]
     },
     "metadata": {
      "needs_background": "light"
     },
     "output_type": "display_data"
    }
   ],
   "source": [
    "sns.regplot(x = pots.width, y=pots.height)"
   ]
  },
  {
   "cell_type": "code",
   "execution_count": 108,
   "metadata": {},
   "outputs": [
    {
     "data": {
      "text/plain": [
       "0"
      ]
     },
     "execution_count": 108,
     "metadata": {},
     "output_type": "execute_result"
    }
   ],
   "source": [
    "pots.height.fillna(pots.height.mean(), inplace=True)\n",
    "pots.width.fillna(pots.width.mean(), inplace=True)\n",
    "\n",
    "pots.height.isna().sum()\n",
    "pots.width.isna().sum()"
   ]
  },
  {
   "cell_type": "markdown",
   "metadata": {},
   "source": [
    "## Clean 'depth' dimension"
   ]
  },
  {
   "cell_type": "code",
   "execution_count": 109,
   "metadata": {},
   "outputs": [
    {
     "data": {
      "text/plain": [
       "614"
      ]
     },
     "execution_count": 109,
     "metadata": {},
     "output_type": "execute_result"
    }
   ],
   "source": [
    "pots.depth.isna().sum()"
   ]
  },
  {
   "cell_type": "code",
   "execution_count": 110,
   "metadata": {},
   "outputs": [
    {
     "data": {
      "text/plain": [
       "<AxesSubplot:xlabel='width', ylabel='depth'>"
      ]
     },
     "execution_count": 110,
     "metadata": {},
     "output_type": "execute_result"
    },
    {
     "data": {
      "image/png": "[encoded data removed]",
      "text/plain": [
       "<Figure size 432x288 with 1 Axes>"
      ]
     },
     "metadata": {
      "needs_background": "light"
     },
     "output_type": "display_data"
    }
   ],
   "source": [
    "sns.regplot(x = pots.width, y=pots.depth)"
   ]
  },
  {
   "cell_type": "markdown",
   "metadata": {},
   "source": [
    "Will impute missing values using imputed regression from the width column. To do: identify the linear equation that describes the above equation"
   ]
  },
  {
   "cell_type": "code",
   "execution_count": 111,
   "metadata": {},
   "outputs": [
    {
     "name": "stdout",
     "output_type": "stream",
     "text": [
      "(585, 1) (585,)\n"
     ]
    }
   ],
   "source": [
    "X = pots[~pots.depth.isna()].width.reset_index()\n",
    "X = X[['width']]\n",
    "y = pots[~pots.depth.isna()].depth\n",
    "\n",
    "print(X.shape, y.shape)"
   ]
  },
  {
   "cell_type": "code",
   "execution_count": 112,
   "metadata": {},
   "outputs": [
    {
     "name": "stdout",
     "output_type": "stream",
     "text": [
      "3.1198936612887564 0.5091271783223169\n"
     ]
    }
   ],
   "source": [
    "lin_reg = LinearRegression()\n",
    "lin_reg.fit(X, y)\n",
    "C = lin_reg.intercept_\n",
    "m = float(lin_reg.coef_)\n",
    "print(C, m)"
   ]
  },
  {
   "cell_type": "code",
   "execution_count": 113,
   "metadata": {},
   "outputs": [],
   "source": [
    "for i in  pots[pots.depth.isna()].index: \n",
    "    pots.loc[i, 'depth'] = m*pots.loc[i, 'width'] + C\n"
   ]
  },
  {
   "cell_type": "code",
   "execution_count": 114,
   "metadata": {},
   "outputs": [
    {
     "data": {
      "text/plain": [
       "0"
      ]
     },
     "execution_count": 114,
     "metadata": {},
     "output_type": "execute_result"
    }
   ],
   "source": [
    "pots.depth.isna().sum()"
   ]
  },
  {
   "cell_type": "code",
   "execution_count": 115,
   "metadata": {},
   "outputs": [],
   "source": [
    "pots.depth = pots.depth.round(1)"
   ]
  },
  {
   "cell_type": "code",
   "execution_count": null,
   "metadata": {},
   "outputs": [],
   "source": []
  },
  {
   "cell_type": "code",
   "execution_count": 117,
   "metadata": {},
   "outputs": [
    {
     "name": "stdout",
     "output_type": "stream",
     "text": [
      "<class 'pandas.core.frame.DataFrame'>\n",
      "Int64Index: 1199 entries, 0 to 1200\n",
      "Data columns (total 12 columns):\n",
      " #   Column       Non-Null Count  Dtype  \n",
      "---  ------       --------------  -----  \n",
      " 0   productcode  1199 non-null   object \n",
      " 1   price        1199 non-null   float64\n",
      " 2   maker        1198 non-null   object \n",
      " 3   name         1199 non-null   object \n",
      " 4   description  1199 non-null   object \n",
      " 5   height       1199 non-null   float64\n",
      " 6   width        1199 non-null   float64\n",
      " 7   depth        1199 non-null   float64\n",
      " 8   materials    1199 non-null   object \n",
      " 9   technique    1199 non-null   object \n",
      " 10  firing       1199 non-null   object \n",
      " 11  decoration   1199 non-null   object \n",
      "dtypes: float64(4), object(8)\n",
      "memory usage: 161.8+ KB\n"
     ]
    }
   ],
   "source": [
    "pots.info()"
   ]
  },
  {
   "cell_type": "code",
   "execution_count": 94,
   "metadata": {},
   "outputs": [
    {
     "data": {
      "text/html": [
       "<div>\n",
       "<style scoped>\n",
       "    .dataframe tbody tr th:only-of-type {\n",
       "        vertical-align: middle;\n",
       "    }\n",
       "\n",
       "    .dataframe tbody tr th {\n",
       "        vertical-align: top;\n",
       "    }\n",
       "\n",
       "    .dataframe thead th {\n",
       "        text-align: right;\n",
       "    }\n",
       "</style>\n",
       "<table border=\"1\" class=\"dataframe\">\n",
       "  <thead>\n",
       "    <tr style=\"text-align: right;\">\n",
       "      <th></th>\n",
       "      <th>price</th>\n",
       "      <th>maker</th>\n",
       "      <th>name</th>\n",
       "      <th>description</th>\n",
       "      <th>height</th>\n",
       "      <th>width</th>\n",
       "      <th>depth</th>\n",
       "      <th>materials</th>\n",
       "      <th>technique</th>\n",
       "      <th>firing</th>\n",
       "      <th>decoration</th>\n",
       "    </tr>\n",
       "    <tr>\n",
       "      <th>productcode</th>\n",
       "      <th></th>\n",
       "      <th></th>\n",
       "      <th></th>\n",
       "      <th></th>\n",
       "      <th></th>\n",
       "      <th></th>\n",
       "      <th></th>\n",
       "      <th></th>\n",
       "      <th></th>\n",
       "      <th></th>\n",
       "      <th></th>\n",
       "    </tr>\n",
       "  </thead>\n",
       "  <tbody>\n",
       "    <tr>\n",
       "      <td>AM470Y165</td>\n",
       "      <td>47.0</td>\n",
       "      <td>Andy Mason</td>\n",
       "      <td>ovalled bowl cream satin motif</td>\n",
       "      <td>this stoneware bowl is wheel-thrown with a cre...</td>\n",
       "      <td>8.0</td>\n",
       "      <td>25.5</td>\n",
       "      <td>22.0</td>\n",
       "      <td>Stoneware</td>\n",
       "      <td>Thrown</td>\n",
       "      <td>Electric</td>\n",
       "      <td>Glaze</td>\n",
       "    </tr>\n",
       "    <tr>\n",
       "      <td>AM470Y164</td>\n",
       "      <td>47.0</td>\n",
       "      <td>Andy Mason</td>\n",
       "      <td>ovalled bowl cream satin motif</td>\n",
       "      <td>this stoneware bowl is wheel-thrown with a cre...</td>\n",
       "      <td>8.0</td>\n",
       "      <td>25.0</td>\n",
       "      <td>22.0</td>\n",
       "      <td>Stoneware</td>\n",
       "      <td>Thrown</td>\n",
       "      <td>Electric</td>\n",
       "      <td>Glaze</td>\n",
       "    </tr>\n",
       "    <tr>\n",
       "      <td>AM470Y163</td>\n",
       "      <td>38.0</td>\n",
       "      <td>Andy Mason</td>\n",
       "      <td>dinner plate cream satin plain</td>\n",
       "      <td>this stoneware plate is wheel-thrown with a cr...</td>\n",
       "      <td>3.0</td>\n",
       "      <td>25.0</td>\n",
       "      <td>15.3</td>\n",
       "      <td>Stoneware</td>\n",
       "      <td>Thrown</td>\n",
       "      <td>Electric</td>\n",
       "      <td>Glaze</td>\n",
       "    </tr>\n",
       "  </tbody>\n",
       "</table>\n",
       "</div>"
      ],
      "text/plain": [
       "             price       maker                            name  \\\n",
       "productcode                                                      \n",
       "AM470Y165     47.0  Andy Mason  ovalled bowl cream satin motif   \n",
       "AM470Y164     47.0  Andy Mason  ovalled bowl cream satin motif   \n",
       "AM470Y163     38.0  Andy Mason  dinner plate cream satin plain   \n",
       "\n",
       "                                                   description  height  width  \\\n",
       "productcode                                                                     \n",
       "AM470Y165    this stoneware bowl is wheel-thrown with a cre...     8.0   25.5   \n",
       "AM470Y164    this stoneware bowl is wheel-thrown with a cre...     8.0   25.0   \n",
       "AM470Y163    this stoneware plate is wheel-thrown with a cr...     3.0   25.0   \n",
       "\n",
       "             depth  materials technique    firing decoration  \n",
       "productcode                                                   \n",
       "AM470Y165     22.0  Stoneware    Thrown  Electric      Glaze  \n",
       "AM470Y164     22.0  Stoneware    Thrown  Electric      Glaze  \n",
       "AM470Y163     15.3  Stoneware    Thrown  Electric      Glaze  "
      ]
     },
     "execution_count": 94,
     "metadata": {},
     "output_type": "execute_result"
    }
   ],
   "source": [
    "pots.head(3)"
   ]
  },
  {
   "cell_type": "code",
   "execution_count": 118,
   "metadata": {},
   "outputs": [],
   "source": [
    "prev_clean = pd.read_csv(\"Pots_clean.csv\")"
   ]
  },
  {
   "cell_type": "code",
   "execution_count": 120,
   "metadata": {},
   "outputs": [],
   "source": [
    "clean = pd.concat([prev_clean, pots], axis=0, sort=True)"
   ]
  },
  {
   "cell_type": "code",
   "execution_count": 122,
   "metadata": {},
   "outputs": [],
   "source": [
    "clean = clean.drop_duplicates(['productcode'])"
   ]
  },
  {
   "cell_type": "code",
   "execution_count": 124,
   "metadata": {},
   "outputs": [
    {
     "data": {
      "text/plain": [
       "(1513, 12)"
      ]
     },
     "execution_count": 124,
     "metadata": {},
     "output_type": "execute_result"
    }
   ],
   "source": [
    "clean.shape"
   ]
  },
  {
   "cell_type": "code",
   "execution_count": null,
   "metadata": {},
   "outputs": [],
   "source": []
  },
  {
   "cell_type": "code",
   "execution_count": null,
   "metadata": {},
   "outputs": [],
   "source": []
  },
  {
   "cell_type": "code",
   "execution_count": 125,
   "metadata": {},
   "outputs": [],
   "source": [
    "clean = clean.set_index('productcode')"
   ]
  },
  {
   "cell_type": "code",
   "execution_count": 126,
   "metadata": {},
   "outputs": [],
   "source": [
    "clean.to_csv(\"Pots_clean.csv\")"
   ]
  }
 ],
 "metadata": {
  "kernelspec": {
   "display_name": "Python 3",
   "language": "python",
   "name": "python3"
  },
  "language_info": {
   "codemirror_mode": {
    "name": "ipython",
    "version": 3
   },
   "file_extension": ".py",
   "mimetype": "text/x-python",
   "name": "python",
   "nbconvert_exporter": "python",
   "pygments_lexer": "ipython3",
   "version": "3.8.5"
  }
 },
 "nbformat": 4,
 "nbformat_minor": 2
}
